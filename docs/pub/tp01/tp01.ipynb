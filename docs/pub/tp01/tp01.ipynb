{
 "cells": [
  {
   "cell_type": "markdown",
   "id": "5b93a68f",
   "metadata": {},
   "source": [
    "<!-- dom:TITLE: TP N°0-1 : Introduction à Python -->\n",
    "# TP N°0-1 : Introduction à Python\n",
    "<!-- dom:AUTHOR: UP Mathématiques at École Supérieure PRivée d'Ingénierie et de Technologies (ESPRIT). -->\n",
    "<!-- Author: -->  \n",
    "**UP Mathématiques**, École Supérieure PRivée d'Ingénierie et de Technologies (ESPRIT).\n",
    "\n",
    "Date: **2 novembre 2023**\n",
    "\n",
    "<!-- dom:FIGURE: [imgs/Signature-01.jpg, width=300 frac=0.45] -->\n",
    "<!-- begin figure -->\n",
    "\n",
    "<p></p>\n",
    "<img src=\"imgs/Signature-01.jpg\" width=300>\n",
    "\n",
    "<!-- end figure -->\n",
    "\n",
    "\n",
    "\n",
    "\n",
    "<!-- --- begin exercise --- -->\n",
    "\n",
    "## Exercise 1: Les variables\n",
    "\n",
    "\n",
    "**a)**\n",
    "Assignez les valeurs respectives 3, 5, 7 à trois variables a, b, c. Effectuez l’opération `a-b//c`. Interprétez le résultat obtenu.\n",
    "\n",
    "\n",
    "<!-- --- begin solution of exercise --- -->\n",
    "**Solution.**\n",
    "Soit les trois valeurs 3, 5 et 7 assignées, respectivement, aux variables `a`, `b` et `c`:"
   ]
  },
  {
   "cell_type": "code",
   "execution_count": 1,
   "id": "5729e1ea",
   "metadata": {
    "collapsed": false
   },
   "outputs": [],
   "source": [
    "a, b, c = 3, 5, 7 # Assignation des variables\n",
    "a - b//c"
   ]
  },
  {
   "cell_type": "markdown",
   "id": "91629fa5",
   "metadata": {},
   "source": [
    "**Interprétation.**\n",
    "\n",
    " L'expression `a - b // c` signifie que nous voulons soustraire (signe '`-`') de la variable `a` la division entière (signe '`//`') de la variable `b` par la variable `c`. Le résultat est 3 car la division entière de 5 par 7 est égale à 0.\n",
    "\n",
    "\n",
    "<!-- --- end solution of exercise --- -->\n",
    "\n",
    "\n",
    "**b)**\n",
    "Testez les lignes d’instructions suivantes. Décrivez ce qui se passe :"
   ]
  },
  {
   "cell_type": "markdown",
   "id": "54ccaf5e",
   "metadata": {},
   "source": [
    "```Python\n",
    "        r = 12\n",
    "        pi = 3.14159\n",
    "        s = pi * r**2\n",
    "        print(s)\n",
    "        print(type(r), type(pi), type(s))\n",
    "```"
   ]
  },
  {
   "cell_type": "markdown",
   "id": "a8c627c1",
   "metadata": {},
   "source": [
    "Quelle est, à votre avis, l’utilité de la fonction `type()` ?\n",
    "\n",
    "\n",
    "<!-- --- begin solution of exercise --- -->\n",
    "**Solution.**\n",
    "Soit:"
   ]
  },
  {
   "cell_type": "code",
   "execution_count": 2,
   "id": "e68de3ae",
   "metadata": {
    "collapsed": false
   },
   "outputs": [],
   "source": [
    "r = 12\n",
    "pi = 3.14159\n",
    "s = pi * r**2\n",
    "print(s)\n",
    "print(type(r), type(pi), type(s))"
   ]
  },
  {
   "cell_type": "markdown",
   "id": "1c133a35",
   "metadata": {},
   "source": [
    "**Description.**\n",
    "\n",
    "Ce code sert à calculer la surface $ s = \\pi r^2$ d'un disque de rayon r donné.\n",
    "\n",
    "* dans les deux premières lignes, **nous assignons** les paramètres de l'équation de s (`r` et `pi`) par ses valeurs.\n",
    "\n",
    "* à la troisième ligne, **nous attribuons** `s` par son expression.\n",
    "\n",
    "* dans les deux dernières lignes, **nous affichons** la valeur de `s` trouvée et les types de variables utilisés dans ce code.\n",
    "\n",
    "\n",
    "<!-- --- end solution of exercise --- -->\n",
    "\n",
    "**c)**\n",
    "Écrivez un programme qui convertisse en degrés Celsius une température exprimée au départ en degrés Fahrenheit, ou l’inverse. La formule de conversion est :\n",
    "    $$T_F = T_C \\times 1,8 + 32 $$\n",
    "\n",
    "\n",
    "<!-- --- begin solution of exercise --- -->\n",
    "**Solution.**\n",
    "Soit:\n",
    " $$T_F = T_C \\times 1,8 + 32 $$\n",
    " avec $T_F$ estla température en degrés Fahrenheit et $T_C$ est la température en degrés Celsius."
   ]
  },
  {
   "cell_type": "code",
   "execution_count": 3,
   "id": "6dcc0943",
   "metadata": {
    "collapsed": false
   },
   "outputs": [],
   "source": [
    "print(\"Conversion de degrés Celsius en degrés Fahrenheit:\")\n",
    "Tc1 = 25 # température en Celsius donnée\n",
    "TF1 = Tc1 * 1.8 + 32\n",
    "print(\"{} degrés Celsius vaut {} degrés Fahrenheit\".format(Tc1, TF1))\n",
    "\n",
    "print(\"Conversion de degrés Fahrenheit en degrés Celsius:\")\n",
    "TF2 = 120 # température en Fahrenheit donnée\n",
    "TC2 = (TF2 - 32)/1.8\n",
    "print(\"{} degrés Fahrenheit vaut {} degrés Celsius\".format(TF2, TC2))"
   ]
  },
  {
   "cell_type": "markdown",
   "id": "5771d6f6",
   "metadata": {},
   "source": [
    "<!-- --- end solution of exercise --- -->\n",
    "\n",
    "<!-- --- end exercise --- -->\n",
    "\n",
    "\n",
    "\n",
    "\n",
    "<!-- --- begin exercise --- -->\n",
    "\n",
    "## Exercise 2: Fonction `input()`\n",
    "\n",
    "Dans tous ces exercices, utilisez la fonction `input()` pour l’entrée des données.\n",
    "\n",
    "\n",
    "**a)**\n",
    "Écrivez un programme qui convertisse en mètres par seconde et en km/h une vitesse fournie par l’utilisateur en miles/heure. (Rappel : 1 mile = 1609 mètres)\n",
    "\n",
    "\n",
    "<!-- --- begin solution of exercise --- -->\n",
    "**Solution.**\n",
    "Conversion de miles/heure en km/h et m/s"
   ]
  },
  {
   "cell_type": "code",
   "execution_count": 4,
   "id": "b828693e",
   "metadata": {
    "collapsed": false
   },
   "outputs": [],
   "source": [
    "# %load sol21.py\n",
    "# Conversion de miles/heure en km/h et m/s\n",
    "ch = input(\"Veuillez entrer le nombre de miles parcourus en une heure : \")\n",
    "mph = float(ch)             # conversion de la chaîne entrée en nombre réel\n",
    "mps = mph * 1609 / 3600     # conversion en mètres par seconde\n",
    "kmph = mph * 1.609          # conversion en km/h\n",
    "# affichage :\n",
    "print(mph, \"miles/heure =\", kmph, \"km/h, ou encore\", mps, \"m/s\")"
   ]
  },
  {
   "cell_type": "markdown",
   "id": "0450ac4b",
   "metadata": {},
   "source": [
    "<!-- --- end solution of exercise --- -->\n",
    "\n",
    "**b)**\n",
    "Écrivez un programme qui calcule le périmètre et l’aire d’un triangle quelconque dont l’utilisateur fournit les 3 côtés.(Rappel : l’aire d’un triangle quelconque se calcule à l’aide de la formule :\n",
    "$$ S = \\sqrt{d \\cdot (d-a) \\cdot (d-b) \\cdot (d-c)}$$\n",
    "    dans laquelle d désigne la longueur du demi-périmètre, et a, b, c celles des trois côtés.)\n",
    "\n",
    "\n",
    "<!-- --- begin solution of exercise --- -->\n",
    "**Solution.**\n",
    "Périmètre et Aire d'un triangle quelconque:"
   ]
  },
  {
   "cell_type": "code",
   "execution_count": 5,
   "id": "c5225a4e",
   "metadata": {
    "collapsed": false
   },
   "outputs": [],
   "source": [
    "# %load sol22.py\n",
    "# Périmètre et Aire d'un triangle quelconque\n",
    "\n",
    "from math import sqrt\n",
    "\n",
    "a = float(input(\"Veuillez entrer le côté a : \"))\n",
    "b = float(input(\"Veuillez entrer le côté b : \"))\n",
    "c = float(input(\"Veuillez entrer le côté c : \"))\n",
    "d = (a + b + c)/2.0                # demi-périmètre\n",
    "s = sqrt(d*(d-a)*(d-b)*(d-c))    # aire (suivant formule)\n",
    "\n",
    "print(\"Longueur des côtés =\", a, b, c)\n",
    "print(\"Périmètre =\", d*2, \"Aire =\", s)"
   ]
  },
  {
   "cell_type": "markdown",
   "id": "b0dbde30",
   "metadata": {},
   "source": [
    "<!-- --- end solution of exercise --- -->\n",
    "\n",
    "<!-- --- end exercise --- -->\n",
    "\n",
    "\n",
    "\n",
    "\n",
    "<!-- --- begin exercise --- -->\n",
    "\n",
    "## Exercise 3: Corriger l'erreur dans le code\n",
    "\n",
    "\n",
    "**a)**\n",
    "Le code suivant renvoie une erreur. Trouver et corriger l'erreur:"
   ]
  },
  {
   "cell_type": "markdown",
   "id": "01da8842",
   "metadata": {},
   "source": [
    "```Python\n",
    "        prenom = input('Entrez votre prénom : ')\n",
    "        age = input('Entrez votre age : ')\n",
    "        annee_naissance = 2018 - age\n",
    "        print(\"Bonjour Mr/Mme\", prenom)\n",
    "        print(\"vous êtes né en\", annee_naissance)\n",
    "```"
   ]
  },
  {
   "cell_type": "markdown",
   "id": "8a34c098",
   "metadata": {},
   "source": [
    "<!-- --- begin hint in exercise --- -->\n",
    "\n",
    "**Indication.**\n",
    "* utiliser la fonction `type()`\n",
    "\n",
    "* utliser la fonction `int()`\n",
    "\n",
    "<!-- --- end hint in exercise --- -->\n",
    "\n",
    "\n",
    "<!-- --- begin solution of exercise --- -->\n",
    "**Solution.**\n",
    "La solution est comme suit:"
   ]
  },
  {
   "cell_type": "code",
   "execution_count": 6,
   "id": "bad24977",
   "metadata": {
    "collapsed": false
   },
   "outputs": [],
   "source": [
    "prenom = input('Entrez votre prénom : ')"
   ]
  },
  {
   "cell_type": "markdown",
   "id": "452ced8f",
   "metadata": {},
   "source": [
    "<!-- --- end solution of exercise --- -->\n",
    "\n",
    "**b)**\n",
    "Afficher le messge suivant:\n",
    "Bonjour Mr/Mme `prenom`, votre age est `age` et vous êtes né en `annee_naissance`.\n",
    "\n",
    "<!-- --- begin hint in exercise --- -->\n",
    "\n",
    "**Indication.**\n",
    "Remplacer les points par ce qui convient dans le code:"
   ]
  },
  {
   "cell_type": "markdown",
   "id": "01dfb278",
   "metadata": {},
   "source": [
    "```Python\n",
    "        print(\" Bonjour Mr/Mme {}, votre age est {}....\".format(...))\n",
    "```"
   ]
  },
  {
   "cell_type": "markdown",
   "id": "e7b4c38c",
   "metadata": {},
   "source": [
    "<!-- --- end hint in exercise --- -->\n",
    "\n",
    "\n",
    "<!-- --- begin solution of exercise --- -->\n",
    "**Solution.**\n",
    "La solution s'écrit:"
   ]
  },
  {
   "cell_type": "code",
   "execution_count": 7,
   "id": "106ce2de",
   "metadata": {
    "collapsed": false
   },
   "outputs": [],
   "source": [
    "print(\" Bonjour Mr/Mme {}, votre age est {} et vous êtes né en {}\".format(prenom, age, annee_naissance))"
   ]
  },
  {
   "cell_type": "markdown",
   "id": "a9162923",
   "metadata": {},
   "source": [
    "<!-- --- end solution of exercise --- -->\n",
    "\n",
    "<!-- --- end exercise --- -->\n",
    "\n",
    "\n",
    "\n",
    "\n",
    "<!-- --- begin exercise --- -->\n",
    "\n",
    "## Exercise 4: Polynômes creux\n",
    "\n",
    "L'objectif de cet exercice est la manipulation des polynômes creux à une seule variable.\n",
    "\n",
    "Un polynôme creux est un polynôme dont certains coefficients sont nuls.\n",
    "\n",
    "Un polynôme est construit à partir de monômes.\n",
    "\n",
    "Un monôme est une expression de la forme $a x^n$ où $a$ ($a \\neq 0$) est le coefficient du monôme et $n$ ($n \\ge 0$) son degré.\n",
    "\n",
    "Un monôme est représenté par un dictionnaire à un élément dont la clé est le degré $n$ et la valeur est le coefficient $a$.\n",
    "\n",
    "**Exemple :**\n",
    "\n",
    "Le monôme $8 x^2$ est représenté par le dictionnaire `{2:8}`.\n",
    "\n",
    "Un polynôme creux est alors défini comme une association de monômes de degrés différents.\n",
    "\n",
    "**Exemple :**\n",
    "\n",
    "Le polynôme $-x^4 + 8 x^2 - 5 x$ est représenté par le dictionnaire `{2:8, 1:-5, 4:-1}`.\n",
    "\n",
    "Le dictionnaire `{0:1, 5:1, 8:1}` représente le polynôme $x^8 + x^5 + 1$.\n",
    "\n",
    "\n",
    "**a)**\n",
    "Compléter le script de la fonction `ajout_monome(P,monome)`, sachant que `P` est un dictionnaire représentant un polynôme. On rappelle que cette méthode ajoute un monôme saisi au clavier (en faisant les contrôles nécessaires) si le paramètre `monome` est nul ou ajoute le monôme nommé `monome` sinon."
   ]
  },
  {
   "cell_type": "code",
   "execution_count": 8,
   "id": "668ae80c",
   "metadata": {
    "collapsed": false
   },
   "outputs": [],
   "source": [
    "def ajout_monome(P,monome={}):\n",
    "    \"\"\"\n",
    "    Cette méthode ajoute un monôme saisi au clavier à P\n",
    "    si le paramètre monome est nul ou ajoute le monôme nommé monome sinon\n",
    "    \"\"\"\n",
    "    if len(monome)==0:\n",
    "        # Partie à compléter\n",
    "    else:\n",
    "        degre=list(monome.keys())[0]\n",
    "        coeff=list(monome.values())[0]\n",
    "        assert degre>=0\n",
    "        assert type(degre)==int\n",
    "        assert type(coeff)==int or type(coeff)==float\n",
    "        assert len(monome)==1\n",
    "        P.update(monome)"
   ]
  },
  {
   "cell_type": "markdown",
   "id": "d67b7973",
   "metadata": {},
   "source": [
    "<!-- --- begin hint in exercise --- -->\n",
    "\n",
    "**Indication.**\n",
    "L'appel à la fonction `ajout_monome` peut être utilisé comme suivant :"
   ]
  },
  {
   "cell_type": "markdown",
   "id": "637a57e9",
   "metadata": {},
   "source": [
    "```Python\n",
    "        In[1]: P = {0:1, 5:1, 8:1} # x^8 + x^5 + 1\n",
    "        In[2]: ajout_monome(P)\n",
    "        donner le degré du monôme : 2\n",
    "        donner le coefficient du monôme : 1\n",
    "        \n",
    "        Out[2]: {0: 1, 5: 1, 8: 1, 2: 1.0}\n",
    "```"
   ]
  },
  {
   "cell_type": "markdown",
   "id": "a7d36684",
   "metadata": {},
   "source": [
    "ou bien"
   ]
  },
  {
   "cell_type": "markdown",
   "id": "55913f63",
   "metadata": {},
   "source": [
    "```Python\n",
    "        In[3]: ajout_monome(P, {2:8})\n",
    "        Out[3]: {0: 1, 5: 1, 8: 1, 2: 8}\n",
    "```"
   ]
  },
  {
   "cell_type": "markdown",
   "id": "7d9f9d84",
   "metadata": {},
   "source": [
    "<!-- --- end hint in exercise --- -->\n",
    "\n",
    "\n",
    "<!-- --- begin solution of exercise --- -->\n",
    "**Solution.**"
   ]
  },
  {
   "cell_type": "code",
   "execution_count": 9,
   "id": "2866d124",
   "metadata": {
    "collapsed": false
   },
   "outputs": [],
   "source": [
    "def ajout_monome(P,monome={}):\n",
    "    \"\"\"\n",
    "    Cette fonction ajoute un monôme saisi au clavier à P\n",
    "    si le paramètre monome est nul ou ajoute le monôme nommé monome sinon\n",
    "    \"\"\"\n",
    "    if len(monome)==0:\n",
    "        # Réponse à Q1.\n",
    "        while True:\n",
    "            try:\n",
    "                degree = int(input(\"donner le degré du monôme : \"))\n",
    "                coeff = float(input(\"donner le coefficient du monôme : \"))\n",
    "                if degree >=0:\n",
    "                    break\n",
    "            except:\n",
    "                print(\"erreur de saisie\") # ou pass ou continue\n",
    "        P.update({degree:coeff})\n",
    "    else: # Si monome est non vide\n",
    "        degre=list(monome.keys())[0] # extraction du degré\n",
    "        coeff=list(monome.values())[0] # extraction du coefficient\n",
    "        assert degre>=0\n",
    "        assert type(degre)==int\n",
    "        assert type(coeff)==int or type(coeff)==float\n",
    "        assert len(monome)==1\n",
    "        P.update(monome)\n",
    "    return P"
   ]
  },
  {
   "cell_type": "markdown",
   "id": "03100dc9",
   "metadata": {},
   "source": [
    "<!-- --- end solution of exercise --- -->\n",
    "\n",
    "**b)**\n",
    "Écrire le code de la fonction `degree(P)` qui prend en paramètre le polynôme `P` représenté sous forme d'un dictionnaire et renvoie  son degré."
   ]
  },
  {
   "cell_type": "code",
   "execution_count": 10,
   "id": "9093c4e3",
   "metadata": {
    "collapsed": false
   },
   "outputs": [],
   "source": [
    "def degree(P):\n",
    "  # à compléter"
   ]
  },
  {
   "cell_type": "markdown",
   "id": "5825bdc2",
   "metadata": {},
   "source": [
    "<!-- --- begin solution of exercise --- -->\n",
    "**Solution.**"
   ]
  },
  {
   "cell_type": "markdown",
   "id": "73ef2988",
   "metadata": {},
   "source": [
    "1\n",
    "5\n",
    " \n",
    "<\n",
    "<\n",
    "<\n",
    "!\n",
    "!\n",
    "C\n",
    "O\n",
    "D\n",
    "E\n",
    "_\n",
    "B\n",
    "L\n",
    "O\n",
    "C\n",
    "K\n",
    " \n",
    " \n",
    "p\n",
    "y\n",
    "c\n",
    "o\n",
    "d"
   ]
  },
  {
   "cell_type": "markdown",
   "id": "5f69dfdd",
   "metadata": {},
   "source": [
    "<!-- --- end solution of exercise --- -->\n",
    "\n",
    "**c)**\n",
    "Écrire le code de la fonction `call(P,x0)` qui retourne la valeur du polynôme P passé en paramètre sous forme d'un dictionnaire pour un réel `x0` donné."
   ]
  },
  {
   "cell_type": "code",
   "execution_count": 11,
   "id": "afc533a9",
   "metadata": {
    "collapsed": false
   },
   "outputs": [],
   "source": [
    "def call(P, x0):\n",
    "  # à compléter"
   ]
  },
  {
   "cell_type": "markdown",
   "id": "e901e11c",
   "metadata": {},
   "source": [
    "<!-- --- begin solution of exercise --- -->\n",
    "**Solution.**"
   ]
  },
  {
   "cell_type": "markdown",
   "id": "ce9d75b1",
   "metadata": {},
   "source": [
    "1\n",
    "8\n",
    " \n",
    "<\n",
    "<\n",
    "<\n",
    "!\n",
    "!\n",
    "C\n",
    "O\n",
    "D\n",
    "E\n",
    "_\n",
    "B\n",
    "L\n",
    "O\n",
    "C\n",
    "K\n",
    " \n",
    " \n",
    "p\n",
    "y\n",
    "c\n",
    "o\n",
    "d"
   ]
  },
  {
   "cell_type": "markdown",
   "id": "8872b912",
   "metadata": {},
   "source": [
    "<!-- --- end solution of exercise --- -->\n",
    "\n",
    "**d)**\n",
    "Écrire le code de la fonction `add(P,P1)` qui retourne le polynôme somme des deux polynômes `P` et `P1`."
   ]
  },
  {
   "cell_type": "code",
   "execution_count": 12,
   "id": "e5c82186",
   "metadata": {
    "collapsed": false
   },
   "outputs": [],
   "source": [
    "def add(P, P1):\n",
    "    # à compléter"
   ]
  },
  {
   "cell_type": "markdown",
   "id": "4327efca",
   "metadata": {},
   "source": [
    "<!-- --- begin hint in exercise --- -->\n",
    "\n",
    "**Indication.**\n",
    "aucun monôme nul ne doit apparaître dans le polynôme résultat.\n",
    "\n",
    "<!-- --- end hint in exercise --- -->\n",
    "\n",
    "\n",
    "<!-- --- begin solution of exercise --- -->\n",
    "**Solution.**"
   ]
  },
  {
   "cell_type": "code",
   "execution_count": 13,
   "id": "203f72dc",
   "metadata": {
    "collapsed": false
   },
   "outputs": [],
   "source": [
    "def add(P, P1):\n",
    "    p = {}\n",
    "    for degree in P.keys() :\n",
    "        if not (degree in P1.keys()):\n",
    "            ajout_monome(p,{degree:P[degree]})\n",
    "        elif P[degree] != - P1[degree] :\n",
    "            p.update({degree :P[degree] + P1[degree]})\n",
    "    for degree in P1.keys():\n",
    "        if not (degree in P.keys()):\n",
    "            ajout_monome(p,{degree:P1[degree]})\n",
    "    return p"
   ]
  },
  {
   "cell_type": "markdown",
   "id": "999cd89a",
   "metadata": {},
   "source": [
    "<!-- --- end solution of exercise --- -->\n",
    "\n",
    "**e)**\n",
    "En déduire une fonction `diff(P,P1)` qui retourne le polynôme différence des deux polynômes P et P1.\n",
    "**Remarque :** aucun monôme nul ne doit apparaître dans le polynôme résultat.\n",
    "\n",
    "**f)**\n",
    "Écrire le code de la fonction `mul(P,P1)` qui retourne le polynôme produit de deux polynômes.\n",
    "**Remarque :** aucun monôme nul ne doit apparaître dans le polynôme résultat.\n",
    "**g)**\n",
    "Écrire le code de la fonction `derive(P)` qui retourne le polynôme dérivé de P.\n",
    "\n",
    "**h)**\n",
    "Écrire le code de la fonction \\verb|affiche(P)| qui retourne la chaîne de caractères représentant l'expression du polynôme ordonné par ordre décroissant.\n",
    "\n",
    "Pour le polynôme représenté par `{4:4, 0:4, 12:6, 9:1, 7:-1}`, la chaîne retournée est : `\"6 * X^12 + X^9 - X^7+ 4 * X^4 + 4\"`\n",
    "\n",
    "**i)**\n",
    "Écrire le code de la fonction `primitive(P)`, qui retourne le polynôme  représentant la primitive. On suppose que la constante d'intégration est nulle.\n",
    "\n",
    "**j)**\n",
    "On définit, l'intégrale d'un polynôme creux $P$ en $x$ entre les bornes $a$ et $b$, par :\n",
    "$$S = \\int_{a}^{b} P dx$$\n",
    "Écrire le script de la fonction, nommée `integrale`, permettant de retourner la valeur de $S$ à partir d'un polynôme $P$, de type `PolynomeCreux`, et des bornes d'integration $a$ et $b$ réels.\n",
    "\n",
    "**k)**\n",
    "Écrire une fonction `courbe()` affichant la dans un même repère un polynôme P, sa primitive et sa dérivée.\n",
    "\n",
    "<!-- --- end exercise --- -->"
   ]
  }
 ],
 "metadata": {},
 "nbformat": 4,
 "nbformat_minor": 5
}
