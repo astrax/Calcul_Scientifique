{
 "cells": [
  {
   "cell_type": "markdown",
   "id": "c8b98238",
   "metadata": {},
   "source": [
    "<!-- dom:TITLE: Introduction à Python -->\n",
    "# Introduction à Python\n",
    "<!-- dom:AUTHOR: UP Mathématiques at École Supérieure PRivée d'Ingénierie et de Technologies (ESPRIT). -->\n",
    "<!-- Author: -->  \n",
    "**UP Mathématiques**, École Supérieure PRivée d'Ingénierie et de Technologies (ESPRIT).\n",
    "\n",
    "Date: **2 novembre 2023**\n",
    "\n",
    "<!-- dom:FIGURE: [imgs/Signature-01.jpg, width=300 frac=0.45] -->\n",
    "<!-- begin figure -->\n",
    "\n",
    "<p></p>\n",
    "<img src=\"imgs/Signature-01.jpg\" width=300>\n",
    "\n",
    "<!-- end figure -->\n",
    "\n",
    "\n",
    "\n",
    "\n",
    "\n",
    "\n",
    "# Objectifs généraux en premier\n",
    "\n",
    "Une partie essentielle de ce cours est de vous permettre de faire de la science par des expériences numériques et de développer des projets qui vous permettent d'étudier des systèmes complexes. Le but est d'améliorer ce que nous appelons la pensée algorithmique.\n",
    "\n",
    "**Algorithme**\n",
    "Un ensemble fini d'instructions non ambiguës qui, étant donné un ensemble de conditions initiales, peuvent être effectuées dans une séquence prescrite pour atteindre un certain but.\n",
    "\n",
    "# Situation standard que nous rencontrons quotidiennement\n",
    "\n",
    "La situation standard que nous rencontrons presque tous les séances de cours:\n",
    "\n",
    "* Théorie + expérience + simulation est presque la norme dans la recherche et l'industrie.\n",
    "\n",
    "* Être capable de modéliser des systèmes complexes. Résoudre de vrais problèmes.\n",
    "\n",
    "* Accent la compréhension des principes fondamentaux et des lois dans les sciences.\n",
    "\n",
    "* Être capable de visualiser, présenter, discuter, interpréter et venir avec une analyse critique des résultats, et développer une attitude éthique saine pour son propre travail.\n",
    "\n",
    "* Améliorer le raisonnement sur la méthode scientifique.\n",
    "\n",
    "Une bonne présentation des résultats obtenus via de bons rapports scientifiques, aide à inclure tous les aspects ci-dessus.\n",
    "\n",
    "# Langage Python\n",
    "\n",
    "[Python](http://www.python.org/) est un langage de programmation moderne de haut niveau, orienté objet et d'usage général.\n",
    "\n",
    "**Caractéristiques générales de Python** :\n",
    "\n",
    "* Langage simple:\n",
    "\n",
    "  * facile à lire et à apprendre avec une syntaxe minimaliste.\n",
    "\n",
    "\n",
    "* Langage concis et expressif:\n",
    "\n",
    "  * moins de lignes de code\n",
    "\n",
    "  * moins de bugs\n",
    "\n",
    "  * plus facile à maintenir.\n",
    "\n",
    "\n",
    "**Détails techniques** :\n",
    "\n",
    "* Typé dynamiquement:\n",
    "\n",
    "  * Pas besoin de définir le type des variables, les arguments ou le type des fonctions.\n",
    "\n",
    "\n",
    "* La gestion automatique de la mémoire:\n",
    "\n",
    "  * Aucune nécessité d'allouer explicitement et désallouer la mémoire pour les variables et les tableaux de données. Aucun bug de fuite de mémoire.\n",
    "\n",
    "\n",
    "* Interprété:\n",
    "\n",
    "  * Pas besoin de compiler le code. L'interpréteur Python lit et exécute le code python directement.\n",
    "\n",
    "\n",
    "**Avantages** :\n",
    "\n",
    "* Le principal avantage est la facilité de programmation, qui minimise le temps nécessaire pour développer, déboguer et maintenir le code.\n",
    "\n",
    "* Langage bien conçu qui encourage les bonnes pratiques de programmation:\n",
    "\n",
    "  * Modulaire et orientée objet, permet l'encapsulation  et la réutilisation de code. Il en résulte souvent un code plus transparent, plus facile à améliorer et sans bug.\n",
    "\n",
    "  * Documentation intégré avec le code.\n",
    "\n",
    "\n",
    "* De nombreuses bibliothèques standards, et de nombreux packages add-on.\n",
    "\n",
    "# Installation d'un environnement Python scientifique\n",
    "\n",
    "## Installation sur ordinateur\n",
    "\n",
    "### Qu’est ce que Anaconda ?\n",
    "\n",
    "L’installation d’un environnement Python complet peut-être une vraie galère. Déjà, il faut télécharger Python et l’installer. Par la suite, télécharger un à un les packages dont on a besoin. Parfois, le nombre de ces librairies peut-être grand.\n",
    "\n",
    "Par ailleurs, il faut s’assurer de la compatibilité entre les versions des différentes packages qu’on a à télécharger. Bref, ce n’est pas amusant.\n",
    "\n",
    "[Anaconda](https://www.anaconda.com/download/) est  une distribution Python. A son installation, Anaconda installera Python ainsi qu'une multitude de packages (voir [liste de packages anaconda](https://docs.anaconda.com/anaconda/packages/pkg-docs#python-3-6)).  Cela nous évite de nous ruer dans les problèmes d’incompatibilités entre les différents packages.\n",
    "\n",
    "Finalement, Anaconda propose un outil de gestion de packages appelé [conda](https://conda.io/docs/). Ce dernier permettra de mettre à jour et installer facilement les librairies dont on aura besoin pour nos développements.\n",
    "\n",
    "### Préparer la formation: téléchargement d’Anaconda\n",
    "\n",
    "Nous demandons à tous les étudiants de télécharger Anaconda. Pour cela, il faut télécharger un installeur à partir de <https://www.anaconda.com/download/>, correspondant à votre système d’exploitation (Windows, Mac OS X, Linux). Il faut choisir entre 32 bits ou 64 bits (pour la version *Python 3*) selon que votre système d’exploitation est 32 bits ou 64 bits.\n",
    "\n",
    "<!-- dom:FIGURE: [imgs/AnacondaNavigator.png, width=600 frac=0.7] Interface graphique du navigateur Anaconda sur Windows -->\n",
    "<!-- begin figure -->\n",
    "\n",
    "<p>Interface graphique du navigateur Anaconda sur Windows</p>\n",
    "<img src=\"imgs/AnacondaNavigator.png\" width=600>\n",
    "\n",
    "<!-- end figure -->\n",
    "\n",
    "\n",
    "**Notice.**\n",
    "\n",
    "Anaconda installe plusieurs exécutables pour développer en Python dans le répertoire *anaconda/bin*, sans toujours créer des raccourcis sur le bureau ou dans un menu. Nous nous occuperons au tout début de la formation de créer des raccourcis pour pouvoir lancer l'application web *Jupyter notebook*. Vous pouvez lancer le notebook depuis le navigateur Anaconda.\n",
    "\n",
    "\n",
    "\n",
    "# Introduction: \"Hello World!\"\n",
    "C'est devenu une tradition que lorsque vous apprenez un nouveau langage de programmation, vous démarrez avec un programme permettant à l'ordinateur d'imprimer le message *\"Hello World!\"*."
   ]
  },
  {
   "cell_type": "code",
   "execution_count": 1,
   "id": "5d69dec1",
   "metadata": {
    "collapsed": false
   },
   "outputs": [],
   "source": [
    "print(\"Hello World!\")"
   ]
  },
  {
   "cell_type": "markdown",
   "id": "9f48b253",
   "metadata": {},
   "source": [
    "Félicitation! tout à l'heure vous avez fait votre ordinateur saluer le monde en anglais! La fonction `print()` est utilisée pour imprimer l’instruction entre les parenthèses. De plus, l'utilisation de guillemets simples `print('Hello World!')` affichera le même résultat. Le délimiteur de début et de fin doit être le même."
   ]
  },
  {
   "cell_type": "code",
   "execution_count": 2,
   "id": "8348ef32",
   "metadata": {
    "collapsed": false
   },
   "outputs": [],
   "source": [
    "print('Hello World!')"
   ]
  },
  {
   "cell_type": "markdown",
   "id": "20f0ea83",
   "metadata": {},
   "source": [
    "# Commentaires\n",
    "\n",
    "Au fur et à mesure que vos programmes deviennent plus grands et plus compliqués, ils deviennent plus difficiles à lire et à regarder un morceau de code et à comprendre ce qu'il fait ou pourquoi. Pour cette raison, il est conseillé d’ajouter des notes à vos programmes pour expliquer en langage naturel ce qu’il fait. Ces notes s'appellent des commentaires et commencent par le symbole `#`.\n",
    "\n",
    "Voyez ce qui se passe lorsque nous ajoutons un commentaire au code précédent:"
   ]
  },
  {
   "cell_type": "code",
   "execution_count": 3,
   "id": "4279f2a0",
   "metadata": {
    "collapsed": false
   },
   "outputs": [],
   "source": [
    "print('Hello World!') # Ceci est mon premier commentaire"
   ]
  },
  {
   "cell_type": "markdown",
   "id": "c65ecceb",
   "metadata": {},
   "source": [
    "Rien ne change dans la sortie? Oui, et c’est très normal, l’interprète Python ignore cette ligne et ne renvoie rien. La raison en est que les commentaires sont écrits pour les humains, pour comprendre leurs codes, et non pour les machines.\n",
    "\n",
    "# Nombres\n",
    "\n",
    "L'interpréteur Python agit comme une simple calculatrice: vous pouvez y taper une expression et l'interpréteur restituera la valeur. La syntaxe d'expression est simple: les opérateurs +, -, * et / fonctionnent comme dans la plupart des autres langages (par exemple, Pascal ou C); les parenthèses (`()`) peuvent être utilisées pour le regroupement. Par exemple:"
   ]
  },
  {
   "cell_type": "code",
   "execution_count": 4,
   "id": "f0c32c00",
   "metadata": {
    "collapsed": false
   },
   "outputs": [],
   "source": [
    "5+3"
   ]
  },
  {
   "cell_type": "code",
   "execution_count": 5,
   "id": "a72f7c0c",
   "metadata": {
    "collapsed": false
   },
   "outputs": [],
   "source": [
    "2 - 9      # les espaces sont optionnels"
   ]
  },
  {
   "cell_type": "code",
   "execution_count": 6,
   "id": "ae0a077d",
   "metadata": {
    "collapsed": false
   },
   "outputs": [],
   "source": [
    "7 + 3 * 4  #la hiérarchie des opérations mathématique"
   ]
  },
  {
   "cell_type": "code",
   "execution_count": 7,
   "id": "7fb8d8c3",
   "metadata": {
    "collapsed": false
   },
   "outputs": [],
   "source": [
    "(7 + 3) * 4  # est-elle respectées?"
   ]
  },
  {
   "cell_type": "code",
   "execution_count": 8,
   "id": "36288b6a",
   "metadata": {
    "collapsed": false
   },
   "outputs": [],
   "source": [
    "20 / 3"
   ]
  },
  {
   "cell_type": "code",
   "execution_count": 9,
   "id": "ba431d85",
   "metadata": {
    "collapsed": false
   },
   "outputs": [],
   "source": [
    "7 // 2      # une division entière"
   ]
  },
  {
   "cell_type": "markdown",
   "id": "8093c9e7",
   "metadata": {},
   "source": [
    "On peut noter l’existence de l’opérateur `%` (appelé opérateur modulo). Cet opérateur fournit le reste de la division entière d’un nombre par un autre. Par exemple :"
   ]
  },
  {
   "cell_type": "code",
   "execution_count": 10,
   "id": "922ef658",
   "metadata": {
    "collapsed": false
   },
   "outputs": [],
   "source": [
    "7 % 2       # donne le reste de la division"
   ]
  },
  {
   "cell_type": "code",
   "execution_count": 11,
   "id": "d8ced72d",
   "metadata": {
    "collapsed": false
   },
   "outputs": [],
   "source": [
    "6 % 2"
   ]
  },
  {
   "cell_type": "markdown",
   "id": "7bd69004",
   "metadata": {},
   "source": [
    "Les exposants peuvent être calculés à l'aide de doubles astérisques `**`."
   ]
  },
  {
   "cell_type": "code",
   "execution_count": 12,
   "id": "d7030c1f",
   "metadata": {
    "collapsed": false
   },
   "outputs": [],
   "source": [
    "3**2"
   ]
  },
  {
   "cell_type": "markdown",
   "id": "95afda0c",
   "metadata": {},
   "source": [
    "Les puissances de dix peuvent être calculées comme suit:"
   ]
  },
  {
   "cell_type": "code",
   "execution_count": 13,
   "id": "d10b8c6e",
   "metadata": {
    "collapsed": false
   },
   "outputs": [],
   "source": [
    "3 * 2e3   # vaut 3 * 2000"
   ]
  },
  {
   "cell_type": "markdown",
   "id": "7433d3d4",
   "metadata": {},
   "source": [
    "# Affectations (ou assignation)\n",
    "\n",
    "## variables\n",
    "Dans presque tous les programmes Python que vous allez écrire, vous aurez des variables. Les variables agissent comme des espaces réservés pour les données. Ils peuvent aider à court terme, ainsi qu’à la logique, les variables pouvant changer, d’où leur nom. C’est beaucoup plus facile en Python car aucune déclaration de variables n’est requise. Les noms de variable (ou tout autre objet Python tel que fonction, classe, module, etc.) commencent par une lettre majuscule ou minuscule (A-Z ou a-z). Ils sont sensibles à la casse (`VAR1` et `var1` sont deux variables distinctes). Depuis Python, vous pouvez utiliser n’importe quel caractère Unicode, il est préférable d’ignorer les caractères ASCII (donc pas de caractères accentués).\n",
    "\n",
    "Si une variable est nécessaire, pensez à un nom et commencez à l'utiliser comme une variable, comme dans l'exemple ci-dessous:\n",
    "\n",
    "Pour calculer l'aire d'un rectangle par exemple: `largeur` x `hauteur`:"
   ]
  },
  {
   "cell_type": "code",
   "execution_count": 14,
   "id": "0ddd6147",
   "metadata": {
    "collapsed": false
   },
   "outputs": [],
   "source": [
    "largeur = 25\n",
    "hauteur = 40\n",
    "largeur    # essayer d'accéder à la valeur de la variable largeur"
   ]
  },
  {
   "cell_type": "markdown",
   "id": "39da4c61",
   "metadata": {},
   "source": [
    "on peut également utiliser la fonction `print()` pour afficher la valeur de la variable `largeur`"
   ]
  },
  {
   "cell_type": "code",
   "execution_count": 15,
   "id": "6b439d8c",
   "metadata": {
    "collapsed": false
   },
   "outputs": [],
   "source": [
    "print(largeur)"
   ]
  },
  {
   "cell_type": "markdown",
   "id": "528eb8b4",
   "metadata": {},
   "source": [
    "Le produit de ces deux variables donne l'aire du rectangle:"
   ]
  },
  {
   "cell_type": "code",
   "execution_count": 16,
   "id": "3f9fd32e",
   "metadata": {
    "collapsed": false
   },
   "outputs": [],
   "source": [
    "largeur * hauteur  # donne l'aire du rectangle"
   ]
  },
  {
   "cell_type": "markdown",
   "id": "3a38f065",
   "metadata": {},
   "source": [
    "**Notice.**\n",
    "\n",
    "Notez ici que le signe égal (`=`) dans l'affectation ne doit pas être considéré comme **\"est égal à\"**. Il doit être **\"lu\"** ou interprété comme **\"est définie par\"**, ce qui signifie dans notre exemple:\n",
    "> La variable `largeur` est définie par la valeur 25 et la variable `hauteur` est définie par la valeur 40.\n",
    "\n",
    "\n",
    "\n",
    "**Warning.**\n",
    "\n",
    "Si une variable n'est pas *définie* (assignée à une valeur), son utilisation vous donnera une erreur:"
   ]
  },
  {
   "cell_type": "code",
   "execution_count": 17,
   "id": "4393e734",
   "metadata": {
    "collapsed": false
   },
   "outputs": [],
   "source": [
    "aire     # essayer d'accéder à une variable non définie"
   ]
  },
  {
   "cell_type": "markdown",
   "id": "4e97bd78",
   "metadata": {},
   "source": [
    "Laissez-nous résoudre ce problème informatique (ou **bug** tout simplement)!. En d'autres termes, assignons la variable `aire` à sa valeur."
   ]
  },
  {
   "cell_type": "code",
   "execution_count": 18,
   "id": "014db080",
   "metadata": {
    "collapsed": false
   },
   "outputs": [],
   "source": [
    "aire = largeur * hauteur\n",
    "aire  # et voila!"
   ]
  },
  {
   "cell_type": "markdown",
   "id": "83bda52b",
   "metadata": {},
   "source": [
    "## Noms de variables réservés (keywords)\n",
    "Certains noms de variables ne sont pas disponibles, ils sont réservés à python lui-même. Les mots-clés suivants (que vous pouvez afficher dans l'interpréteur avec la commande `help(\"keywords\")`) sont réservés et ne peuvent pas être utilisés pour définir vos propres identifiants (variables, noms de fonctions, classes, etc.)."
   ]
  },
  {
   "cell_type": "code",
   "execution_count": 19,
   "id": "c276114a",
   "metadata": {
    "collapsed": false
   },
   "outputs": [],
   "source": [
    "help(\"keywords\")"
   ]
  },
  {
   "cell_type": "code",
   "execution_count": 20,
   "id": "69b4fe92",
   "metadata": {
    "collapsed": false
   },
   "outputs": [],
   "source": [
    "Lambda = 630e-9\n",
    "Lambda"
   ]
  },
  {
   "cell_type": "markdown",
   "id": "f3bcc11d",
   "metadata": {},
   "source": [
    "## Les types\n",
    "Les types utilisés dans Python sont: integers, long integers, floats (double prec.), complexes, strings, booleans. La fonction `type()` donne le type de son argument\n",
    "### Le type int (integer : nombres entiers)\n",
    "\n",
    "Pour affecter (on peut dire aussi assigner) la valeur 20 à la variable nommée `age` :"
   ]
  },
  {
   "cell_type": "markdown",
   "id": "314ac628",
   "metadata": {},
   "source": [
    "La fonction `print()` affiche la valeur de la variable :"
   ]
  },
  {
   "cell_type": "code",
   "execution_count": 21,
   "id": "3b42a15d",
   "metadata": {
    "collapsed": false
   },
   "outputs": [],
   "source": [
    "print(age)"
   ]
  },
  {
   "cell_type": "markdown",
   "id": "b5ccc1e8",
   "metadata": {},
   "source": [
    "La fonction `type()` retourne le type de la variable :"
   ]
  },
  {
   "cell_type": "markdown",
   "id": "17a3a0d0",
   "metadata": {},
   "source": [
    "### Le type float (nombres en virgule flottante)"
   ]
  },
  {
   "cell_type": "code",
   "execution_count": 22,
   "id": "1ce4dee1",
   "metadata": {
    "collapsed": false
   },
   "outputs": [],
   "source": [
    "type(b)"
   ]
  },
  {
   "cell_type": "code",
   "execution_count": 23,
   "id": "678ee9fc",
   "metadata": {
    "collapsed": false
   },
   "outputs": [],
   "source": [
    "c = 14.0/3.0"
   ]
  },
  {
   "cell_type": "markdown",
   "id": "f8a73519",
   "metadata": {},
   "source": [
    "Notation scientifique :"
   ]
  },
  {
   "cell_type": "code",
   "execution_count": 24,
   "id": "cf994296",
   "metadata": {
    "collapsed": false
   },
   "outputs": [],
   "source": [
    "a = -1.784892e4"
   ]
  },
  {
   "cell_type": "markdown",
   "id": "bf4e47ca",
   "metadata": {},
   "source": [
    "### Les fonctions mathématiques\n",
    "\n",
    "Pour utiliser les fonctions mathématiques, il faut commencer par importer le module `math` :"
   ]
  },
  {
   "cell_type": "markdown",
   "id": "9271e175",
   "metadata": {},
   "source": [
    "La fonction `help()` retourne la liste des fonctions et données d'un module.\n",
    "\n",
    "Soit par exemple: `help('math')`\n",
    "\n",
    "\n",
    "Pour appeler une fonction d'un module, la syntaxe est la suivante : `module.fonction(arguments)`\n",
    "\n",
    "Pour accéder à une donnée d'un module : `module.data`"
   ]
  },
  {
   "cell_type": "code",
   "execution_count": 25,
   "id": "409cdd3b",
   "metadata": {
    "collapsed": false
   },
   "outputs": [],
   "source": [
    "math.pi"
   ]
  },
  {
   "cell_type": "code",
   "execution_count": 26,
   "id": "aca75c3e",
   "metadata": {
    "collapsed": false
   },
   "outputs": [],
   "source": [
    "math.sin(math.pi/4.0)"
   ]
  },
  {
   "cell_type": "code",
   "execution_count": 27,
   "id": "e1a83fa5",
   "metadata": {
    "collapsed": false
   },
   "outputs": [],
   "source": [
    "math.sqrt(2.0)"
   ]
  },
  {
   "cell_type": "code",
   "execution_count": 28,
   "id": "3aa89f96",
   "metadata": {
    "collapsed": false
   },
   "outputs": [],
   "source": [
    "math.exp(-3.0)"
   ]
  },
  {
   "cell_type": "code",
   "execution_count": 29,
   "id": "f201e32b",
   "metadata": {
    "collapsed": false
   },
   "outputs": [],
   "source": [
    "math.log(math.e)"
   ]
  },
  {
   "cell_type": "markdown",
   "id": "44d71ca9",
   "metadata": {},
   "source": [
    "### Le type complexe\n",
    "\n",
    "Python possède par défaut un type pour manipuler les nombres complexes. La partie imaginaire est indiquée grâce à la lettre « `j` » ou « `J` ». La lettre mathématique utilisée habituellement, le « `i` », n’est pas utilisée en Python car la variable i est souvent utilisée dans les boucles."
   ]
  },
  {
   "cell_type": "code",
   "execution_count": 30,
   "id": "1748218f",
   "metadata": {
    "collapsed": false
   },
   "outputs": [],
   "source": [
    "a = 2 + 3j"
   ]
  },
  {
   "cell_type": "code",
   "execution_count": 31,
   "id": "9236f84d",
   "metadata": {
    "collapsed": false
   },
   "outputs": [],
   "source": [
    "a"
   ]
  },
  {
   "cell_type": "markdown",
   "id": "e66b09c7",
   "metadata": {},
   "source": [
    "**Warning.**"
   ]
  },
  {
   "cell_type": "code",
   "execution_count": 32,
   "id": "5a8fb5a5",
   "metadata": {
    "collapsed": false
   },
   "outputs": [],
   "source": [
    "b = 1 + j"
   ]
  },
  {
   "cell_type": "markdown",
   "id": "c02496f3",
   "metadata": {},
   "source": [
    "Dans ce cas, on doit écrire la variable `b` comme suit:"
   ]
  },
  {
   "cell_type": "code",
   "execution_count": 33,
   "id": "443665d8",
   "metadata": {
    "collapsed": false
   },
   "outputs": [],
   "source": [
    "b = 1 + 1j"
   ]
  },
  {
   "cell_type": "markdown",
   "id": "b4d31f31",
   "metadata": {},
   "source": [
    "sinon Python va considérer `j` comme variable non définie.\n",
    "\n",
    "\n",
    "\n",
    "### Le type str (string : chaîne de caractères)"
   ]
  },
  {
   "cell_type": "code",
   "execution_count": 34,
   "id": "db958d2a",
   "metadata": {
    "collapsed": false
   },
   "outputs": [],
   "source": [
    "nom = 'Tounsi' # entre apostrophes"
   ]
  },
  {
   "cell_type": "code",
   "execution_count": 35,
   "id": "661ef477",
   "metadata": {
    "collapsed": false
   },
   "outputs": [],
   "source": [
    "type(nom)"
   ]
  },
  {
   "cell_type": "code",
   "execution_count": 36,
   "id": "a65fcd22",
   "metadata": {
    "collapsed": false
   },
   "outputs": [],
   "source": [
    "prenom = \"Ali\"  # on peut aussi utiliser les guillemets"
   ]
  },
  {
   "cell_type": "code",
   "execution_count": 37,
   "id": "2d1cc598",
   "metadata": {
    "collapsed": false
   },
   "outputs": [],
   "source": [
    "print(nom, prenom)  # ne pas oublier la virgule"
   ]
  },
  {
   "cell_type": "markdown",
   "id": "8c8dc633",
   "metadata": {},
   "source": [
    "La concaténation désigne la mise bout à bout de plusieurs chaînes de caractères.\n",
    "La concaténation utilise l'opérateur `+`:"
   ]
  },
  {
   "cell_type": "code",
   "execution_count": 38,
   "id": "fc6d0f82",
   "metadata": {
    "collapsed": false
   },
   "outputs": [],
   "source": [
    "chaine = nom + prenom  # concaténation de deux chaînes de caractères"
   ]
  },
  {
   "cell_type": "markdown",
   "id": "334553c6",
   "metadata": {},
   "source": [
    "Vous voyez dans cet exemple que le nom et le prénom sont collé. Pour ajouter une espace entre ces deux chaînes de caractères:"
   ]
  },
  {
   "cell_type": "code",
   "execution_count": 39,
   "id": "87234005",
   "metadata": {
    "collapsed": false
   },
   "outputs": [],
   "source": [
    "chaine = prenom + ' ' + nom"
   ]
  },
  {
   "cell_type": "markdown",
   "id": "5f74bc59",
   "metadata": {},
   "source": [
    "On peut modifier/ajouter une nouvelle chaîne à notre variable `chaine` par:"
   ]
  },
  {
   "cell_type": "code",
   "execution_count": 40,
   "id": "9aadb666",
   "metadata": {
    "collapsed": false
   },
   "outputs": [],
   "source": [
    "chaine = chaine + ' 22 ans'  # en plus court : chaine += ' 22 ans'"
   ]
  },
  {
   "cell_type": "markdown",
   "id": "563fb973",
   "metadata": {},
   "source": [
    "La fonction `len()` renvoie la longueur (*length*) de la chaîne de caractères :"
   ]
  },
  {
   "cell_type": "code",
   "execution_count": 41,
   "id": "73de9c31",
   "metadata": {
    "collapsed": false
   },
   "outputs": [],
   "source": [
    "print(nom)"
   ]
  },
  {
   "cell_type": "markdown",
   "id": "1cb0ec96",
   "metadata": {},
   "source": [
    "**Indexage et slicing :**"
   ]
  },
  {
   "cell_type": "markdown",
   "id": "e252c4b3",
   "metadata": {},
   "source": [
    "2\n",
    "8\n",
    " \n",
    "<\n",
    "<\n",
    "<\n",
    "!\n",
    "!\n",
    "C\n",
    "O\n",
    "D\n",
    "E\n",
    "_\n",
    "B\n",
    "L\n",
    "O\n",
    "C\n",
    "K"
   ]
  },
  {
   "cell_type": "markdown",
   "id": "16983a9c",
   "metadata": {},
   "source": [
    "2\n",
    "9\n",
    " \n",
    "<\n",
    "<\n",
    "<\n",
    "!\n",
    "!\n",
    "C\n",
    "O\n",
    "D\n",
    "E\n",
    "_\n",
    "B\n",
    "L\n",
    "O\n",
    "C\n",
    "K\n",
    " \n",
    " \n",
    "i\n",
    "p\n",
    "y"
   ]
  },
  {
   "cell_type": "code",
   "execution_count": 42,
   "id": "513a8a20",
   "metadata": {
    "collapsed": false
   },
   "outputs": [],
   "source": [
    "nom[1:4]   # slicing"
   ]
  },
  {
   "cell_type": "code",
   "execution_count": 43,
   "id": "34348f79",
   "metadata": {
    "collapsed": false
   },
   "outputs": [],
   "source": [
    "nom[2:]  # slicing"
   ]
  },
  {
   "cell_type": "code",
   "execution_count": 44,
   "id": "e20a4f56",
   "metadata": {
    "collapsed": false
   },
   "outputs": [],
   "source": [
    "nom[-1]   # dernier caractère (indice -1)"
   ]
  },
  {
   "cell_type": "code",
   "execution_count": 45,
   "id": "b2aa7f0a",
   "metadata": {
    "collapsed": false
   },
   "outputs": [],
   "source": [
    "nom[-3:]    # slicing"
   ]
  },
  {
   "cell_type": "markdown",
   "id": "ac5e30b7",
   "metadata": {},
   "source": [
    "**Warning.**\n",
    "\n",
    "\n",
    "On ne peut pas mélanger le type `str` et type `int`.\n",
    "\n",
    "Soit par exemple:"
   ]
  },
  {
   "cell_type": "code",
   "execution_count": 46,
   "id": "7fb2439b",
   "metadata": {
    "collapsed": false
   },
   "outputs": [],
   "source": [
    "chaine = '22'"
   ]
  },
  {
   "cell_type": "markdown",
   "id": "c3523bb5",
   "metadata": {},
   "source": [
    "Pour corriger cette erreur, la fonction `int()` permet de convertir un type `str` en type `int`:"
   ]
  },
  {
   "cell_type": "code",
   "execution_count": 47,
   "id": "ef38fb2b",
   "metadata": {
    "collapsed": false
   },
   "outputs": [],
   "source": [
    "nombre = int(chaine)\n",
    "type(nombre) # et voila!"
   ]
  },
  {
   "cell_type": "markdown",
   "id": "204538b5",
   "metadata": {},
   "source": [
    "Maintenant on peut trouver `annee_naissance` sans aucun problème:"
   ]
  },
  {
   "cell_type": "code",
   "execution_count": 48,
   "id": "b62ed878",
   "metadata": {
    "collapsed": false
   },
   "outputs": [],
   "source": [
    "annee_naissance = 2018 - nombre"
   ]
  },
  {
   "cell_type": "markdown",
   "id": "9cb899a1",
   "metadata": {},
   "source": [
    "** Formatage des chaînes**\n",
    "\n",
    "Un problème qui se retrouve souvent, c’est le besoin d’afficher un message qui contient des valeurs de variables.\n",
    "\n",
    "Soit le message: Bonjour Mr/Mme `prenom`, votre age est `age`.\n",
    "\n",
    "La solution est d'utiliser la méthode `format()` de l'objet chaîne `str()` et le `{}` pour définir la valeur à afficher."
   ]
  },
  {
   "cell_type": "markdown",
   "id": "807a9bad",
   "metadata": {},
   "source": [
    "**Le type list (liste)**\n",
    "\n",
    "Une liste est une structure de données.\n",
    "\n",
    "Le premier élément d'une liste possède l'indice (l'index) 0.\n",
    "\n",
    "Dans une liste, on peut avoir des éléments de plusieurs types."
   ]
  },
  {
   "cell_type": "code",
   "execution_count": 49,
   "id": "e07b2314",
   "metadata": {
    "collapsed": false
   },
   "outputs": [],
   "source": [
    "info = ['Tunisie', 'Afrique', 3000, 36.8, 10.08]"
   ]
  },
  {
   "cell_type": "code",
   "execution_count": 50,
   "id": "238f0446",
   "metadata": {
    "collapsed": false
   },
   "outputs": [],
   "source": [
    "type(info)"
   ]
  },
  {
   "cell_type": "markdown",
   "id": "950afc6c",
   "metadata": {},
   "source": [
    "La liste info contient 5 éléments de types str, str, int, float et float"
   ]
  },
  {
   "cell_type": "code",
   "execution_count": 51,
   "id": "2d875839",
   "metadata": {
    "collapsed": false
   },
   "outputs": [],
   "source": [
    "info"
   ]
  },
  {
   "cell_type": "code",
   "execution_count": 52,
   "id": "9b50b085",
   "metadata": {
    "collapsed": false
   },
   "outputs": [],
   "source": [
    "print('Pays : ', info[0])    # premier élément (indice 0)"
   ]
  },
  {
   "cell_type": "code",
   "execution_count": 53,
   "id": "867bb370",
   "metadata": {
    "collapsed": false
   },
   "outputs": [],
   "source": [
    "print('Age : ', info[2])     # le troisième élément a l'indice 2"
   ]
  },
  {
   "cell_type": "code",
   "execution_count": 54,
   "id": "0c9de469",
   "metadata": {
    "collapsed": false
   },
   "outputs": [],
   "source": [
    "print('Latitude : ', info[3]) # le quatrième élément a l'indice 3"
   ]
  },
  {
   "cell_type": "markdown",
   "id": "21438884",
   "metadata": {},
   "source": [
    "La fonction `range()` crée une liste d'entiers régulièrement espacés :"
   ]
  },
  {
   "cell_type": "code",
   "execution_count": 55,
   "id": "c629f113",
   "metadata": {
    "collapsed": false
   },
   "outputs": [],
   "source": [
    "maliste = range(10) # équivalent à range(0,10,1)\n",
    "type(maliste)"
   ]
  },
  {
   "cell_type": "markdown",
   "id": "e002dddc",
   "metadata": {},
   "source": [
    "Pour convertir une range en une liste, on applique la fonction `list()` à notre variable:"
   ]
  },
  {
   "cell_type": "code",
   "execution_count": 56,
   "id": "b0c3ec56",
   "metadata": {
    "collapsed": false
   },
   "outputs": [],
   "source": [
    "list(maliste)   # pour convertir range en une liste"
   ]
  },
  {
   "cell_type": "markdown",
   "id": "dd81b137",
   "metadata": {},
   "source": [
    "On peut spécifier le début, la fin et l'intervalle d'une range:"
   ]
  },
  {
   "cell_type": "code",
   "execution_count": 57,
   "id": "3fc0075d",
   "metadata": {
    "collapsed": false
   },
   "outputs": [],
   "source": [
    "maliste = range(1,10,2)   # range(début,fin non comprise,intervalle)\n",
    "list(maliste)"
   ]
  },
  {
   "cell_type": "code",
   "execution_count": 58,
   "id": "173241c1",
   "metadata": {
    "collapsed": false
   },
   "outputs": [],
   "source": [
    "maliste[2] # le troisième élément a l'indice 2"
   ]
  },
  {
   "cell_type": "markdown",
   "id": "f5cdc110",
   "metadata": {},
   "source": [
    "On peut créer une liste de listes, qui s'apparente à un tableau à 2 dimensions (ligne, colonne) :"
   ]
  },
  {
   "cell_type": "markdown",
   "id": "2ac5106f",
   "metadata": {},
   "source": [
    "        0   1   2\n",
    "        10  11  12\n",
    "        20  21  22\n"
   ]
  },
  {
   "cell_type": "code",
   "execution_count": 59,
   "id": "e9b50622",
   "metadata": {
    "collapsed": false
   },
   "outputs": [],
   "source": [
    "maliste = [[0, 1, 2], [10, 11, 12], [20, 21, 22]]"
   ]
  },
  {
   "cell_type": "code",
   "execution_count": 60,
   "id": "c5fd898e",
   "metadata": {
    "collapsed": false
   },
   "outputs": [],
   "source": [
    "maliste[0][0]"
   ]
  },
  {
   "cell_type": "code",
   "execution_count": 61,
   "id": "ba17f66c",
   "metadata": {
    "collapsed": false
   },
   "outputs": [],
   "source": [
    "maliste[2][1] # élément à la troisième ligne et deuxième colonne"
   ]
  },
  {
   "cell_type": "code",
   "execution_count": 62,
   "id": "b8436999",
   "metadata": {
    "collapsed": false
   },
   "outputs": [],
   "source": [
    "maliste[2][1] = 78   # nouvelle affectation"
   ]
  },
  {
   "cell_type": "code",
   "execution_count": 63,
   "id": "b1215002",
   "metadata": {
    "collapsed": false
   },
   "outputs": [],
   "source": [
    "maliste"
   ]
  },
  {
   "cell_type": "markdown",
   "id": "0db10f47",
   "metadata": {},
   "source": [
    "### Le type bool (booléen)\n",
    "\n",
    "Deux valeurs sont possibles : `True` et `False`"
   ]
  },
  {
   "cell_type": "code",
   "execution_count": 64,
   "id": "3a234eae",
   "metadata": {
    "collapsed": false
   },
   "outputs": [],
   "source": [
    "choix = True # NOTE: \"True\" différent de \"true\""
   ]
  },
  {
   "cell_type": "markdown",
   "id": "4319845e",
   "metadata": {},
   "source": [
    "Les opérateurs de comparaison :\n",
    "\n",
    "\n",
    "\n",
    "<table border=\"1\">\n",
    "<thead>\n",
    "<tr><th align=\"center\">Opérateur</th> <th align=\"center\">    Signification    </th> <th align=\"center\">         Remarques          </th> </tr>\n",
    "</thead>\n",
    "<tbody>\n",
    "<tr><td align=\"left\">   <code><</code>          </td> <td align=\"left\">   strictement inférieur    </td> <td align=\"left\">                                   </td> </tr>\n",
    "<tr><td align=\"left\">   <code><=</code>         </td> <td align=\"left\">   inférieur ou égal        </td> <td align=\"left\">                                   </td> </tr>\n",
    "<tr><td align=\"left\">   <code>></code>          </td> <td align=\"left\">   strictement supérieur    </td> <td align=\"left\">                                   </td> </tr>\n",
    "<tr><td align=\"left\">   <code>>=</code>         </td> <td align=\"left\">   supérieur ou égal        </td> <td align=\"left\">                                   </td> </tr>\n",
    "<tr><td align=\"left\">   <code>==</code>         </td> <td align=\"left\">   égal                     </td> <td align=\"left\">   Attention : deux signes <code>==</code>    </td> </tr>\n",
    "<tr><td align=\"left\">   <code>!=</code>         </td> <td align=\"left\">   différent                </td> <td align=\"left\">                                   </td> </tr>\n",
    "</tbody>\n",
    "</table>"
   ]
  },
  {
   "cell_type": "code",
   "execution_count": 65,
   "id": "d4a7df39",
   "metadata": {
    "collapsed": false
   },
   "outputs": [],
   "source": [
    "b = 10"
   ]
  },
  {
   "cell_type": "code",
   "execution_count": 66,
   "id": "d66ced72",
   "metadata": {
    "collapsed": false
   },
   "outputs": [],
   "source": [
    "b == 5"
   ]
  },
  {
   "cell_type": "code",
   "execution_count": 67,
   "id": "7bf85515",
   "metadata": {
    "collapsed": false
   },
   "outputs": [],
   "source": [
    "b != 5"
   ]
  },
  {
   "cell_type": "code",
   "execution_count": 68,
   "id": "ce98e342",
   "metadata": {
    "collapsed": false
   },
   "outputs": [],
   "source": [
    "0 <= b <= 20"
   ]
  },
  {
   "cell_type": "markdown",
   "id": "0431c355",
   "metadata": {},
   "source": [
    "Les opérateurs logiques : `and`, `or`, `not`"
   ]
  },
  {
   "cell_type": "code",
   "execution_count": 69,
   "id": "0b30c516",
   "metadata": {
    "collapsed": false
   },
   "outputs": [],
   "source": [
    "note = 13.0"
   ]
  },
  {
   "cell_type": "code",
   "execution_count": 70,
   "id": "b972fc33",
   "metadata": {
    "collapsed": false
   },
   "outputs": [],
   "source": [
    "mention_ab = note >= 12.0 and note < 14.0"
   ]
  },
  {
   "cell_type": "code",
   "execution_count": 71,
   "id": "974c2e75",
   "metadata": {
    "collapsed": false
   },
   "outputs": [],
   "source": [
    "# ou bien : mention_ab = 12.0 <= note < 14.0"
   ]
  },
  {
   "cell_type": "code",
   "execution_count": 72,
   "id": "426bca8f",
   "metadata": {
    "collapsed": false
   },
   "outputs": [],
   "source": [
    "mention_ab"
   ]
  },
  {
   "cell_type": "code",
   "execution_count": 73,
   "id": "b9c48fc9",
   "metadata": {
    "collapsed": false
   },
   "outputs": [],
   "source": [
    "not mention_ab"
   ]
  },
  {
   "cell_type": "code",
   "execution_count": 74,
   "id": "a2286e0e",
   "metadata": {
    "collapsed": false
   },
   "outputs": [],
   "source": [
    "note == 20.0 or note == 0.0"
   ]
  },
  {
   "cell_type": "markdown",
   "id": "876ddd80",
   "metadata": {},
   "source": [
    "L'opérateur `in` s'utilise avec des chaînes (type `str`) ou des listes (type `list`).\n",
    "\n",
    "Pour une chaînes:"
   ]
  },
  {
   "cell_type": "code",
   "execution_count": 75,
   "id": "dc957fee",
   "metadata": {
    "collapsed": false
   },
   "outputs": [],
   "source": [
    "chaine = 'Bonsoir'"
   ]
  },
  {
   "cell_type": "code",
   "execution_count": 76,
   "id": "0bc8c35b",
   "metadata": {
    "collapsed": false
   },
   "outputs": [],
   "source": [
    "resultat = 'soir' in chaine"
   ]
  },
  {
   "cell_type": "markdown",
   "id": "260b4c60",
   "metadata": {},
   "source": [
    "Pour une liste:"
   ]
  },
  {
   "cell_type": "code",
   "execution_count": 77,
   "id": "ef3104d5",
   "metadata": {
    "collapsed": false
   },
   "outputs": [],
   "source": [
    "maliste = [4, 8, 15]"
   ]
  },
  {
   "cell_type": "code",
   "execution_count": 78,
   "id": "26f23e46",
   "metadata": {
    "collapsed": false
   },
   "outputs": [],
   "source": [
    "9 in maliste"
   ]
  },
  {
   "cell_type": "code",
   "execution_count": 79,
   "id": "377be978",
   "metadata": {
    "collapsed": false
   },
   "outputs": [],
   "source": [
    "8 in maliste"
   ]
  },
  {
   "cell_type": "code",
   "execution_count": 80,
   "id": "f0808ed6",
   "metadata": {
    "collapsed": false
   },
   "outputs": [],
   "source": [
    "14 not in maliste"
   ]
  },
  {
   "cell_type": "markdown",
   "id": "e6ccb540",
   "metadata": {},
   "source": [
    "# Les conditions\n",
    "## L'instruction `if`\n",
    "En programmation, nous avons toujours besoin de la notion de condition pour permettre à un programme de s'adapter à différents cas de figure.\n",
    "\n",
    "**Syntaxe.**"
   ]
  },
  {
   "cell_type": "markdown",
   "id": "ead91b58",
   "metadata": {},
   "source": [
    "```Python\n",
    "        if expression: # ne pas oublier le signe de ponctuation ':'\n",
    "            \"bloc d'instructions\" # attention à l'indentation (1 Tab ou 4 * Espaces)\n",
    "        # suite du programme\n",
    "```"
   ]
  },
  {
   "cell_type": "markdown",
   "id": "ffe2ff01",
   "metadata": {},
   "source": [
    "* Si l'expression est vraie (`True`) alors le bloc d'instructions est exécuté.\n",
    "\n",
    "* Si l'expression est fausse (`False`) on passe directement à la suite du programme.\n",
    "\n",
    "\n",
    "\n",
    "\n",
    "### Exemple 1: Note sur 20\n",
    "\n",
    "Dans cet exemple nous allons tester si la note entrée par l'utilisateur. Si la note est > 10 on doit recevoir le message: \"J'ai la moyenne\" sinon il va rien faire."
   ]
  },
  {
   "cell_type": "code",
   "execution_count": 81,
   "id": "c0b3e0e8",
   "metadata": {
    "collapsed": false
   },
   "outputs": [],
   "source": [
    "chaine = input(\"Note sur 20 : \")\n",
    "note = float(chaine)\n",
    "if note >= 10.0:\n",
    "    # ce bloc est exécuté si l'expression (note >= 10.0) est vraie\n",
    "    print(\"J'ai la moyenne\")\n",
    "\n",
    "# suite du programme\n",
    "print(\"Fin du programme\")"
   ]
  },
  {
   "cell_type": "markdown",
   "id": "215347df",
   "metadata": {},
   "source": [
    "**Notice.**\n",
    "\n",
    "* Les blocs de code sont délimités par l'indentation.\n",
    "\n",
    "* L'indentation est obligatoire dans les scripts.\n",
    "\n",
    "\n",
    "\n",
    "## L'instruction `else`\n",
    "\n",
    "Une instruction `else` est toujours associée à une instruction `if`.\n",
    "\n",
    "**Syntaxe.**"
   ]
  },
  {
   "cell_type": "markdown",
   "id": "9e8b44cb",
   "metadata": {},
   "source": [
    "```Python\n",
    "        if expression:\n",
    "            \"bloc d'instructions 1\"    # attention à l'indentation (1 Tab ou 4 * Espaces)\n",
    "        else:                          # else est au même niveau que if\n",
    "            \"bloc d'instructions 2\"    # attention à l'indentation\n",
    "        # suite du programme\n",
    "```"
   ]
  },
  {
   "cell_type": "markdown",
   "id": "98b04130",
   "metadata": {},
   "source": [
    "* Si l'expression est vraie (`True`) alors le bloc d'instructions 1 est exécuté.\n",
    "\n",
    "* Si l'expression est fausse (`False`) alors c'est le bloc d'instructions 2 qui est exécuté.\n",
    "\n",
    "\n",
    "\n",
    "\n",
    "### Exemple 2 : moyenne\n",
    "\n",
    "Dans cet exemple nous allons tester si la note entrée par l'utilisateur. Si la note est > 10 on doit recevoir le message: \"J'ai la moyenne\" sinon il va afficher \"C'est en dessous de la moyenne\"."
   ]
  },
  {
   "cell_type": "code",
   "execution_count": 82,
   "id": "926c869e",
   "metadata": {
    "collapsed": false
   },
   "outputs": [],
   "source": [
    "chaine = input(\"Note sur 20 : \")\n",
    "note = float(chaine)\n",
    "if note >= 10.0:\n",
    "    # ce bloc est exécuté si l'expression (note >= 10.0) est vraie\n",
    "    print(\"J'ai la moyenne\")\n",
    "else:\n",
    "    # ce bloc est exécuté si l'expression (note >= 10.0) est fausse\n",
    "    print(\"C'est en dessous de la moyenne\")\n",
    "print(\"Fin du programme\")"
   ]
  },
  {
   "cell_type": "markdown",
   "id": "b1c3f686",
   "metadata": {},
   "source": [
    "Ou bien encore:"
   ]
  },
  {
   "cell_type": "code",
   "execution_count": 83,
   "id": "aa4bbcf3",
   "metadata": {
    "collapsed": false
   },
   "outputs": [],
   "source": [
    "chaine = input(\"Note sur 20 : \")\n",
    "note = float(chaine)\n",
    "if note > 20.0 or note < 0.0:\n",
    "    print(\"Note invalide !\")\n",
    "else:\n",
    "    if note >= 10.0:\n",
    "        print(\"J'ai la moyenne\")\n",
    "        if note == 20.0:\n",
    "            # ce bloc est exécuté si l'expression (note == 20.0) est vraie\n",
    "            print(\"C'est même excellent !\")\n",
    "    else:\n",
    "        print(\"C'est en dessous de la moyenne\")\n",
    "        if note == 0.0:\n",
    "            # ce bloc est exécuté si l'expression (note == 0.0) est vraie\n",
    "            print(\"... lamentable !\")\n",
    "print(\"Fin du programme\")"
   ]
  },
  {
   "cell_type": "markdown",
   "id": "08cef971",
   "metadata": {},
   "source": [
    "## L'instruction `elif`\n",
    "**Syntaxe.**"
   ]
  },
  {
   "cell_type": "markdown",
   "id": "40b10ed0",
   "metadata": {},
   "source": [
    "```Python\n",
    "        if expression 1:\n",
    "            \"bloc d'instructions 1\"\n",
    "        elif expression 2:\n",
    "            \"bloc d'instructions 2\"\n",
    "        elif expression 3:\n",
    "            \"bloc d'instructions 3\"    # ici deux instructions elif, mais il n'y a pas de limitation\n",
    "        else:\n",
    "            \"bloc d'instructions 4\"\n",
    "        # suite du programme\n",
    "```"
   ]
  },
  {
   "cell_type": "markdown",
   "id": "9c112615",
   "metadata": {},
   "source": [
    "* Si l'expression 1 est vraie alors le bloc d'instructions 1 est exécuté, et on passe à la suite du programme.\n",
    "\n",
    "* Si l'expression 1 est fausse alors on teste l'expression 2 :\n",
    "\n",
    "* si l'expression 2 est vraie on exécute le bloc d'instructions 2, et on passe à la suite du programme.\n",
    "\n",
    "* si l'expression 2 est fausse alors on teste l'expression 3, etc.\n",
    "\n",
    "\n",
    "Le bloc d'instructions 4 est donc exécuté si toutes les expressions sont fausses (c'est le bloc \"par défaut\").\n",
    "\n",
    "Parfois il n'y a rien à faire. Dans ce cas, on peut omettre l'instruction `else` :"
   ]
  },
  {
   "cell_type": "markdown",
   "id": "66d2c564",
   "metadata": {},
   "source": [
    "```Python\n",
    "        if expression 1:\n",
    "            \"bloc d'instructions 1\"\n",
    "        elif expression 2:\n",
    "            \"bloc d'instructions 2\"\n",
    "        elif expression 3:\n",
    "            \"bloc d'instructions 3\"\n",
    "        # suite du programme\n",
    "```"
   ]
  },
  {
   "cell_type": "markdown",
   "id": "fefcd3b1",
   "metadata": {},
   "source": [
    "L'instruction `elif` évite souvent l'utilisation de conditions imbriquées (et souvent compliquées).\n",
    "\n",
    "### Exemple 3 : moyenne-bis\n",
    "\n",
    "On peut tester plusieurs possibilités avec une syntaxe beaucoup plus propre avec les instructions `if-elif-else`:"
   ]
  },
  {
   "cell_type": "code",
   "execution_count": 84,
   "id": "df2f98e3",
   "metadata": {
    "collapsed": false
   },
   "outputs": [],
   "source": [
    "note = float(input(\"Note sur 20 : \"))\n",
    "if note == 0.0:\n",
    "    print(\"C'est en dessous de la moyenne\")\n",
    "    print(\"... lamentable!\")\n",
    "elif note == 20.0:\n",
    "    print(\"J'ai la moyenne\")\n",
    "    print(\"C'est même excellent !\")\n",
    "elif 0 < note < 10:    # ou bien : elif 0.0 < note < 10.0:\n",
    "    print(\"C'est en dessous de la moyenne\")\n",
    "elif note >= 10.0 and note < 20.0:   # ou bien : elif 10.0 <= note < 20.0:\n",
    "    print(\"J'ai la moyenne\")\n",
    "else:\n",
    "    print(\"Note invalide !\")\n",
    "print(\"Fin du programme\")"
   ]
  },
  {
   "cell_type": "markdown",
   "id": "1adfc7ab",
   "metadata": {},
   "source": [
    "# Les boucles\n",
    "## L'instruction `while`\n",
    "\n",
    "**Syntaxe.**"
   ]
  },
  {
   "cell_type": "markdown",
   "id": "4b9ff68f",
   "metadata": {},
   "source": [
    "```Python\n",
    "        while expression:           # ne pas oublier le signe de ponctuation ':'\n",
    "            \"bloc d'instructions\"   # attention à l'indentation (1 Tab ou 4 * Espaces)\n",
    "        # suite du programme\n",
    "```"
   ]
  },
  {
   "cell_type": "markdown",
   "id": "1e53c5cf",
   "metadata": {},
   "source": [
    "* Si l'expression est vraie (`True`) le bloc d'instructions est exécuté, puis l'expression est à nouveau évaluée.\n",
    "\n",
    "* Le cycle continue jusqu'à ce que l'expression soit fausse (`False`) : on passe alors à la suite du programme.\n",
    "\n",
    "\n",
    "### Exemple 1 : un script qui compte de 1 à 4"
   ]
  },
  {
   "cell_type": "code",
   "execution_count": 85,
   "id": "27082eac",
   "metadata": {
    "collapsed": false
   },
   "outputs": [],
   "source": [
    "# initialisation de la variable de comptage\n",
    "compteur = 0\n",
    "while compteur < 5:\n",
    "    # ce bloc est exécuté tant que la condition (compteur < 5) est vraie\n",
    "    print(compteur)\n",
    "    compteur +=  1    # incrémentation du compteur,  compteur = compteur + 1\n",
    "print(compteur)\n",
    "print(\"Fin de la boucle\")"
   ]
  },
  {
   "cell_type": "markdown",
   "id": "d1397443",
   "metadata": {},
   "source": [
    "### Exemple 2 : Table de multiplication par 8"
   ]
  },
  {
   "cell_type": "code",
   "execution_count": 86,
   "id": "a80177a8",
   "metadata": {
    "collapsed": false
   },
   "outputs": [],
   "source": [
    "compteur = 1         # initialisation de la variable de comptage\n",
    "while compteur <= 10:\n",
    "    # ce bloc est exécuté tant que la condition (compteur <= 10) est vraie\n",
    "    print(compteur, '* 8 =', compteur*8)\n",
    "    compteur += 1    # incrémentation du compteur, compteur = compteur + 1\n",
    "print(\"Et voilà !\")"
   ]
  },
  {
   "cell_type": "markdown",
   "id": "f7cb98ab",
   "metadata": {},
   "source": [
    "### Exemple 3 : Affichage de l'heure courante"
   ]
  },
  {
   "cell_type": "code",
   "execution_count": 87,
   "id": "0432a9c4",
   "metadata": {
    "collapsed": false
   },
   "outputs": [],
   "source": [
    "import time     # importation du module time\n",
    "quitter = 'n'   # initialisation\n",
    "while quitter != 'o':\n",
    "    # ce bloc est exécuté tant que la condition est vraie\n",
    "    # strftime() est une fonction du module time\n",
    "    print('Heure courante ', time.strftime('%H:%M:%S'))\n",
    "    quitter = input(\"Voulez-vous quitter le programme (o/n) ? \")\n",
    "print(\"A bientôt\")"
   ]
  },
  {
   "cell_type": "markdown",
   "id": "a24084cc",
   "metadata": {},
   "source": [
    "## L'instruction `for`\n",
    "\n",
    "**Syntaxe.**"
   ]
  },
  {
   "cell_type": "markdown",
   "id": "bf1a2fcd",
   "metadata": {},
   "source": [
    "```Python\n",
    "        for élément in séquence :     # ne pas oublier le signe de ponctuation ':'\n",
    "            \"bloc d'instructions\"     # attention à l'indentation (1 Tab ou 4 * Espaces)\n",
    "        # suite du programme\n",
    "```"
   ]
  },
  {
   "cell_type": "markdown",
   "id": "35a59d82",
   "metadata": {},
   "source": [
    "Les éléments de la séquence sont issus d'une chaîne de caractères ou bien d'une liste.\n",
    "### Exemple 1 : séquence de caractères"
   ]
  },
  {
   "cell_type": "code",
   "execution_count": 88,
   "id": "de3b8fab",
   "metadata": {
    "collapsed": false
   },
   "outputs": [],
   "source": [
    "chaine = 'Bonsoir'\n",
    "for lettre in chaine:  # lettre est la variable d'itération\n",
    "    print(lettre)\n",
    "print(\"Fin de la boucle\")"
   ]
  },
  {
   "cell_type": "markdown",
   "id": "c9cc9a05",
   "metadata": {},
   "source": [
    "La variable lettre est initialisée avec le premier élément de la séquence ('B').\n",
    "Le bloc d'instructions est alors exécuté.\n",
    "\n",
    "Puis la variable lettre est mise à jour avec le second élément de la séquence ('o') et le bloc d'instructions à nouveau exécuté...\n",
    "\n",
    "Le bloc d'instructions est exécuté une dernière fois lorsqu'on arrive au dernier élément de la séquence ('r').\n",
    "### Fonction `range()`\n",
    "\n",
    "L'association avec la fonction `range()` est très utile pour créer des séquences automatiques de nombres entiers :"
   ]
  },
  {
   "cell_type": "code",
   "execution_count": 89,
   "id": "83fc1784",
   "metadata": {
    "collapsed": false
   },
   "outputs": [],
   "source": [
    "for i in range(1, 5):\n",
    "    print(i)\n",
    "print(\"Fin de la boucle\")"
   ]
  },
  {
   "cell_type": "markdown",
   "id": "5e84ab1d",
   "metadata": {},
   "source": [
    "### Exemple 2 : Table de multiplication\n",
    "\n",
    "La création d'une table de multiplication paraît plus simple avec une boucle `for` qu'avec une boucle `while` :"
   ]
  },
  {
   "cell_type": "code",
   "execution_count": 90,
   "id": "b925e749",
   "metadata": {
    "collapsed": false
   },
   "outputs": [],
   "source": [
    "for compteur in range(1,11):\n",
    "    print(compteur, '* 8 =', compteur*8)\n",
    "print(\"Et voilà !\")"
   ]
  },
  {
   "cell_type": "markdown",
   "id": "d6fc3952",
   "metadata": {},
   "source": [
    "### Exemple 3 : calcul d'une somme\n",
    "\n",
    "Soit, par exemple, l'expression de la somme suivante:"
   ]
  },
  {
   "cell_type": "markdown",
   "id": "49e4956e",
   "metadata": {},
   "source": [
    "$$\n",
    "s = \\sum_{i = 0}^{100} \\sqrt{\\frac{i \\pi}{100}} sin(\\frac{i \\pi}{100})\n",
    "$$"
   ]
  },
  {
   "cell_type": "code",
   "execution_count": 91,
   "id": "1da409ae",
   "metadata": {
    "collapsed": false
   },
   "outputs": [],
   "source": [
    "from math import sqrt, sin, pi\n",
    "s = 0.0 # # intialisation de s\n",
    "for i in range(101):\n",
    "    s+= sqrt(i * pi/100) * sin(i * pi/100)   # équivalent à s = s + sqrt(x) * sin(x)\n",
    "# Affichage de la somme\n",
    "print(s)"
   ]
  },
  {
   "cell_type": "markdown",
   "id": "2578e68f",
   "metadata": {},
   "source": [
    "## L'instruction break\n",
    "\n",
    "L'instruction break provoque une sortie immédiate d'une boucle `while` ou d'une boucle `for`.\n",
    "\n",
    "Dans l'exemple suivant, l'expression `True` est toujours ... vraie : on a une boucle sans fin.\n",
    "\n",
    "L'instruction `break` est donc le seul moyen de sortir de la boucle.\n",
    "### Exemple : Affichage de l'heure courante"
   ]
  },
  {
   "cell_type": "code",
   "execution_count": 92,
   "id": "b76e2a42",
   "metadata": {
    "collapsed": false
   },
   "outputs": [],
   "source": [
    "import time     # importation du module time\n",
    "while True:\n",
    "    # strftime() est une fonction du module time\n",
    "    print('Heure courante ', time.strftime('%H:%M:%S'))\n",
    "    quitter = input('Voulez-vous quitter le programme (o/n) ? ')\n",
    "    if quitter == 'o':\n",
    "        break\n",
    "print(\"A bientôt\")"
   ]
  },
  {
   "cell_type": "markdown",
   "id": "96f546f2",
   "metadata": {},
   "source": [
    "**Notice.**\n",
    "\n",
    "Si vous connaissez le nombre de boucles à effectuer, utiliser une boucle `for`.\n",
    "Autrement, utiliser une boucle `while` (notamment pour faire des boucles sans fin).\n",
    "\n",
    "\n",
    "# Les fonctions\n",
    "\n",
    "Nous avons déjà vu beaucoup de fonctions : `print()`, `type()`, `len()`, `input()`, `range()`...\n",
    "\n",
    "Ce sont des fonctions pré-définies ([Fonctions natives](https://docs.python.org/fr/3/library/functions.html)).\n",
    "\n",
    "Nous avons aussi la possibilité de créer nos propres fonctions!\n",
    "\n",
    "## Intérêt des fonctions\n",
    "\n",
    "Une fonction est une portion de code que l'on peut appeler au besoin (c'est une sorte de sous-programme).\n",
    "\n",
    "L'utilisation des fonctions évite des redondances dans le code : on obtient ainsi des programmes plus courts et plus lisibles.\n",
    "\n",
    "Par exemple, nous avons besoin de convertir à plusieurs reprises des degrés Celsius en degrés Fahrenheit :\n",
    "$$T_F = T_C \\times 1,8 + 32 $$"
   ]
  },
  {
   "cell_type": "code",
   "execution_count": 93,
   "id": "a360a2da",
   "metadata": {
    "collapsed": false
   },
   "outputs": [],
   "source": [
    "print(100 * 1.8 + 32.0)"
   ]
  },
  {
   "cell_type": "code",
   "execution_count": 94,
   "id": "54697765",
   "metadata": {
    "collapsed": false
   },
   "outputs": [],
   "source": [
    "print(37.0 * 1.8 + 32.0)"
   ]
  },
  {
   "cell_type": "code",
   "execution_count": 95,
   "id": "4cbbed7e",
   "metadata": {
    "collapsed": false
   },
   "outputs": [],
   "source": [
    "print(233.0 * 1.8 + 32.0)"
   ]
  },
  {
   "cell_type": "markdown",
   "id": "40180e52",
   "metadata": {},
   "source": [
    "La même chose en utilisant une fonction :"
   ]
  },
  {
   "cell_type": "code",
   "execution_count": 96,
   "id": "1d3142d4",
   "metadata": {
    "collapsed": false
   },
   "outputs": [],
   "source": [
    "def fahrenheit(degre_celsius):\n",
    "        \"\"\"\n",
    "        Conversion degré Celsius en degré Fahrenheit\n",
    "        \"\"\"\n",
    "        print(degre_celsius * 1.8 + 32.0)"
   ]
  },
  {
   "cell_type": "code",
   "execution_count": 97,
   "id": "424d074e",
   "metadata": {
    "collapsed": false
   },
   "outputs": [],
   "source": [
    "fahrenheit(100)"
   ]
  },
  {
   "cell_type": "code",
   "execution_count": 98,
   "id": "0cca71f7",
   "metadata": {
    "collapsed": false
   },
   "outputs": [],
   "source": [
    "fahrenheit(37)"
   ]
  },
  {
   "cell_type": "code",
   "execution_count": 99,
   "id": "0e2bcbbb",
   "metadata": {
    "collapsed": false
   },
   "outputs": [],
   "source": [
    "temperature = 220\n",
    "fahrenheit(temperature)"
   ]
  },
  {
   "cell_type": "markdown",
   "id": "307f534d",
   "metadata": {},
   "source": [
    "## L'instruction def\n",
    "\n",
    "**Syntaxe.**"
   ]
  },
  {
   "cell_type": "markdown",
   "id": "ad278a0c",
   "metadata": {},
   "source": [
    "```Python\n",
    "        def nom_de_la_fonction(parametre1, parametre2, parametre3, ...):\n",
    "            \"\"\"\n",
    "            Documentation\n",
    "            qu'on peut écrire\n",
    "            sur plusieurs lignes\n",
    "            \"\"\"     # docstring entouré de 3 guillemets (ou apostrophes)\n",
    "        \n",
    "            \"bloc d'instructions\"     # attention à l'indentation\n",
    "        \n",
    "            return resultat            # la fonction retourne le contenu de la variable resultat\n",
    "```"
   ]
  },
  {
   "cell_type": "markdown",
   "id": "a5b4e92f",
   "metadata": {},
   "source": [
    "### Exemple : ma première fonction"
   ]
  },
  {
   "cell_type": "code",
   "execution_count": 100,
   "id": "14903632",
   "metadata": {
    "collapsed": false
   },
   "outputs": [],
   "source": [
    "def mapremierefonction():         # cette fonction n'a pas de paramètre\n",
    "    \"\"\"\n",
    "    Cette fonction affiche 'Bonjour'\n",
    "    \"\"\"\n",
    "    print(\"Bonjour\")\n",
    "    return                         # cette fonction ne retourne rien ('None')\n",
    "    # l'instruction return est ici facultative"
   ]
  },
  {
   "cell_type": "code",
   "execution_count": 101,
   "id": "781eb15e",
   "metadata": {
    "collapsed": false
   },
   "outputs": [],
   "source": [
    "mapremierefonction()"
   ]
  },
  {
   "cell_type": "code",
   "execution_count": 102,
   "id": "7c48eba7",
   "metadata": {
    "collapsed": false
   },
   "outputs": [],
   "source": [
    "help(mapremierefonction)"
   ]
  }
 ],
 "metadata": {},
 "nbformat": 4,
 "nbformat_minor": 5
}
