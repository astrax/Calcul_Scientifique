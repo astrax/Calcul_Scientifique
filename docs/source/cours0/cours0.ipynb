{
 "cells": [
  {
   "cell_type": "markdown",
   "id": "46952daf",
   "metadata": {},
   "source": [
    "<!-- dom:TITLE: Introduction à Python -->\n",
    "# Introduction à Python\n",
    "<!-- dom:AUTHOR: UP Mathématiques at École Supérieure PRivée d'Ingénierie et de Technologies (ESPRIT). -->\n",
    "<!-- Author: -->  \n",
    "**UP Mathématiques**, École Supérieure PRivée d'Ingénierie et de Technologies (ESPRIT).\n",
    "\n",
    "Date: **2 novembre 2023**\n",
    "\n",
    "<!-- dom:FIGURE: [imgs/Signature-01.jpg, width=300 frac=0.45] -->\n",
    "<!-- begin figure -->\n",
    "\n",
    "<p></p>\n",
    "<img src=\"imgs/Signature-01.jpg\" width=300>\n",
    "\n",
    "<!-- end figure -->\n",
    "\n",
    "\n",
    "\n",
    "\n",
    "\n",
    "\n",
    "# Objectifs généraux en premier\n",
    "\n",
    "Une partie essentielle de ce cours est de vous permettre de faire de la science par des expériences numériques et de développer des projets qui vous permettent d'étudier des systèmes complexes. Le but est d'améliorer ce que nous appelons la pensée algorithmique.\n",
    "\n",
    "**Algorithme**\n",
    "Un ensemble fini d'instructions non ambiguës qui, étant donné un ensemble de conditions initiales, peuvent être effectuées dans une séquence prescrite pour atteindre un certain but.\n",
    "\n",
    "# Situation standard que nous rencontrons quotidiennement\n",
    "\n",
    "La situation standard que nous rencontrons presque tous les séances de cours:\n",
    "\n",
    "* Théorie + expérience + simulation est presque la norme dans la recherche et l'industrie.\n",
    "\n",
    "* Être capable de modéliser des systèmes complexes. Résoudre de vrais problèmes.\n",
    "\n",
    "* Accent la compréhension des principes fondamentaux et des lois dans les sciences.\n",
    "\n",
    "* Être capable de visualiser, présenter, discuter, interpréter et venir avec une analyse critique des résultats, et développer une attitude éthique saine pour son propre travail.\n",
    "\n",
    "* Améliorer le raisonnement sur la méthode scientifique.\n",
    "\n",
    "Une bonne présentation des résultats obtenus via de bons rapports scientifiques, aide à inclure tous les aspects ci-dessus.\n",
    "\n",
    "# Langage Python\n",
    "\n",
    "[Python](http://www.python.org/) est un langage de programmation moderne de haut niveau, orienté objet et d'usage général.\n",
    "\n",
    "**Caractéristiques générales de Python** :\n",
    "\n",
    "* Langage simple:\n",
    "\n",
    "  * facile à lire et à apprendre avec une syntaxe minimaliste.\n",
    "\n",
    "\n",
    "* Langage concis et expressif:\n",
    "\n",
    "  * moins de lignes de code\n",
    "\n",
    "  * moins de bugs\n",
    "\n",
    "  * plus facile à maintenir.\n",
    "\n",
    "\n",
    "**Détails techniques** :\n",
    "\n",
    "* Typé dynamiquement:\n",
    "\n",
    "  * Pas besoin de définir le type des variables, les arguments ou le type des fonctions.\n",
    "\n",
    "\n",
    "* La gestion automatique de la mémoire:\n",
    "\n",
    "  * Aucune nécessité d'allouer explicitement et désallouer la mémoire pour les variables et les tableaux de données. Aucun bug de fuite de mémoire.\n",
    "\n",
    "\n",
    "* Interprété:\n",
    "\n",
    "  * Pas besoin de compiler le code. L'interpréteur Python lit et exécute le code python directement.\n",
    "\n",
    "\n",
    "**Avantages** :\n",
    "\n",
    "* Le principal avantage est la facilité de programmation, qui minimise le temps nécessaire pour développer, déboguer et maintenir le code.\n",
    "\n",
    "* Langage bien conçu qui encourage les bonnes pratiques de programmation:\n",
    "\n",
    "  * Modulaire et orientée objet, permet l'encapsulation  et la réutilisation de code. Il en résulte souvent un code plus transparent, plus facile à améliorer et sans bug.\n",
    "\n",
    "  * Documentation intégré avec le code.\n",
    "\n",
    "\n",
    "* De nombreuses bibliothèques standards, et de nombreux packages add-on.\n",
    "\n",
    "# Installation d'un environnement Python scientifique\n",
    "\n",
    "## Installation sur ordinateur\n",
    "\n",
    "### Qu’est ce que Anaconda ?\n",
    "\n",
    "L’installation d’un environnement Python complet peut-être une vraie galère. Déjà, il faut télécharger Python et l’installer. Par la suite, télécharger un à un les packages dont on a besoin. Parfois, le nombre de ces librairies peut-être grand.\n",
    "\n",
    "Par ailleurs, il faut s’assurer de la compatibilité entre les versions des différentes packages qu’on a à télécharger. Bref, ce n’est pas amusant.\n",
    "\n",
    "[Anaconda](https://www.anaconda.com/download/) est  une distribution Python. A son installation, Anaconda installera Python ainsi qu'une multitude de packages (voir [liste de packages anaconda](https://docs.anaconda.com/anaconda/packages/pkg-docs#python-3-6)).  Cela nous évite de nous ruer dans les problèmes d’incompatibilités entre les différents packages.\n",
    "\n",
    "Finalement, Anaconda propose un outil de gestion de packages appelé [conda](https://conda.io/docs/). Ce dernier permettra de mettre à jour et installer facilement les librairies dont on aura besoin pour nos développements.\n",
    "\n",
    "### Préparer la formation: téléchargement d’Anaconda\n",
    "\n",
    "Nous demandons à tous les étudiants de télécharger Anaconda. Pour cela, il faut télécharger un installeur à partir de <https://www.anaconda.com/download/>, correspondant à votre système d’exploitation (Windows, Mac OS X, Linux). Il faut choisir entre 32 bits ou 64 bits (pour la version *Python 3*) selon que votre système d’exploitation est 32 bits ou 64 bits.\n",
    "\n",
    "<!-- dom:FIGURE: [imgs/AnacondaNavigator.png, width=600 frac=0.7] Interface graphique du navigateur Anaconda sur Windows -->\n",
    "<!-- begin figure -->\n",
    "\n",
    "<p>Interface graphique du navigateur Anaconda sur Windows</p>\n",
    "<img src=\"imgs/AnacondaNavigator.png\" width=600>\n",
    "\n",
    "<!-- end figure -->\n",
    "\n",
    "\n",
    "**Notice.**\n",
    "\n",
    "Anaconda installe plusieurs exécutables pour développer en Python dans le répertoire *anaconda/bin*, sans toujours créer des raccourcis sur le bureau ou dans un menu. Nous nous occuperons au tout début de la formation de créer des raccourcis pour pouvoir lancer l'application web *Jupyter notebook*. Vous pouvez lancer le notebook depuis le navigateur Anaconda.\n",
    "\n",
    "\n",
    "\n",
    "# Introduction: \"Hello World!\"\n",
    "C'est devenu une tradition que lorsque vous apprenez un nouveau langage de programmation, vous démarrez avec un programme permettant à l'ordinateur d'imprimer le message *\"Hello World!\"*."
   ]
  },
  {
   "cell_type": "code",
   "execution_count": 1,
   "id": "28c4b0ec",
   "metadata": {
    "collapsed": false
   },
   "outputs": [],
   "source": [
    "print(\"Hello World!\")"
   ]
  },
  {
   "cell_type": "markdown",
   "id": "ca943801",
   "metadata": {},
   "source": [
    "Félicitation! tout à l'heure vous avez fait votre ordinateur saluer le monde en anglais! La fonction `print()` est utilisée pour imprimer l’instruction entre les parenthèses. De plus, l'utilisation de guillemets simples `print('Hello World!')` affichera le même résultat. Le délimiteur de début et de fin doit être le même."
   ]
  },
  {
   "cell_type": "code",
   "execution_count": 2,
   "id": "5e5fee00",
   "metadata": {
    "collapsed": false
   },
   "outputs": [],
   "source": [
    "print('Hello World!')"
   ]
  },
  {
   "cell_type": "markdown",
   "id": "9f56e3f9",
   "metadata": {},
   "source": [
    "# Commentaires\n",
    "\n",
    "Au fur et à mesure que vos programmes deviennent plus grands et plus compliqués, ils deviennent plus difficiles à lire et à regarder un morceau de code et à comprendre ce qu'il fait ou pourquoi. Pour cette raison, il est conseillé d’ajouter des notes à vos programmes pour expliquer en langage naturel ce qu’il fait. Ces notes s'appellent des commentaires et commencent par le symbole `#`.\n",
    "\n",
    "Voyez ce qui se passe lorsque nous ajoutons un commentaire au code précédent:"
   ]
  },
  {
   "cell_type": "code",
   "execution_count": 3,
   "id": "e41880bd",
   "metadata": {
    "collapsed": false
   },
   "outputs": [],
   "source": [
    "print('Hello World!') # Ceci est mon premier commentaire"
   ]
  },
  {
   "cell_type": "markdown",
   "id": "fed9d5d5",
   "metadata": {},
   "source": [
    "Rien ne change dans la sortie? Oui, et c’est très normal, l’interprète Python ignore cette ligne et ne renvoie rien. La raison en est que les commentaires sont écrits pour les humains, pour comprendre leurs codes, et non pour les machines.\n",
    "\n",
    "# Nombres\n",
    "\n",
    "L'interpréteur Python agit comme une simple calculatrice: vous pouvez y taper une expression et l'interpréteur restituera la valeur. La syntaxe d'expression est simple: les opérateurs +, -, * et / fonctionnent comme dans la plupart des autres langages (par exemple, Pascal ou C); les parenthèses (`()`) peuvent être utilisées pour le regroupement. Par exemple:"
   ]
  },
  {
   "cell_type": "code",
   "execution_count": 4,
   "id": "9f87cd76",
   "metadata": {
    "collapsed": false
   },
   "outputs": [],
   "source": [
    "5+3"
   ]
  },
  {
   "cell_type": "code",
   "execution_count": 5,
   "id": "120d7752",
   "metadata": {
    "collapsed": false
   },
   "outputs": [],
   "source": [
    "2 - 9      # les espaces sont optionnels"
   ]
  },
  {
   "cell_type": "code",
   "execution_count": 6,
   "id": "bf17ecd9",
   "metadata": {
    "collapsed": false
   },
   "outputs": [],
   "source": [
    "7 + 3 * 4  #la hiérarchie des opérations mathématique"
   ]
  },
  {
   "cell_type": "code",
   "execution_count": 7,
   "id": "9141562d",
   "metadata": {
    "collapsed": false
   },
   "outputs": [],
   "source": [
    "(7 + 3) * 4  # est-elle respectées?"
   ]
  },
  {
   "cell_type": "code",
   "execution_count": 8,
   "id": "ffee8a68",
   "metadata": {
    "collapsed": false
   },
   "outputs": [],
   "source": [
    "20 / 3"
   ]
  },
  {
   "cell_type": "code",
   "execution_count": 9,
   "id": "2300b75a",
   "metadata": {
    "collapsed": false
   },
   "outputs": [],
   "source": [
    "7 // 2      # une division entière"
   ]
  },
  {
   "cell_type": "markdown",
   "id": "70edce29",
   "metadata": {},
   "source": [
    "On peut noter l’existence de l’opérateur `%` (appelé opérateur modulo). Cet opérateur fournit le reste de la division entière d’un nombre par un autre. Par exemple :"
   ]
  },
  {
   "cell_type": "code",
   "execution_count": 10,
   "id": "d1705c2d",
   "metadata": {
    "collapsed": false
   },
   "outputs": [],
   "source": [
    "7 % 2       # donne le reste de la division"
   ]
  },
  {
   "cell_type": "code",
   "execution_count": 11,
   "id": "acde9e49",
   "metadata": {
    "collapsed": false
   },
   "outputs": [],
   "source": [
    "6 % 2"
   ]
  },
  {
   "cell_type": "markdown",
   "id": "284c8c6e",
   "metadata": {},
   "source": [
    "Les exposants peuvent être calculés à l'aide de doubles astérisques `**`."
   ]
  },
  {
   "cell_type": "code",
   "execution_count": 12,
   "id": "38d6eadc",
   "metadata": {
    "collapsed": false
   },
   "outputs": [],
   "source": [
    "3**2"
   ]
  },
  {
   "cell_type": "markdown",
   "id": "019aa224",
   "metadata": {},
   "source": [
    "Les puissances de dix peuvent être calculées comme suit:"
   ]
  },
  {
   "cell_type": "code",
   "execution_count": 13,
   "id": "af2cc637",
   "metadata": {
    "collapsed": false
   },
   "outputs": [],
   "source": [
    "3 * 2e3   # vaut 3 * 2000"
   ]
  },
  {
   "cell_type": "markdown",
   "id": "892fb989",
   "metadata": {},
   "source": [
    "# Affectations (ou assignation)\n",
    "\n",
    "## variables\n",
    "Dans presque tous les programmes Python que vous allez écrire, vous aurez des variables. Les variables agissent comme des espaces réservés pour les données. Ils peuvent aider à court terme, ainsi qu’à la logique, les variables pouvant changer, d’où leur nom. C’est beaucoup plus facile en Python car aucune déclaration de variables n’est requise. Les noms de variable (ou tout autre objet Python tel que fonction, classe, module, etc.) commencent par une lettre majuscule ou minuscule (A-Z ou a-z). Ils sont sensibles à la casse (`VAR1` et `var1` sont deux variables distinctes). Depuis Python, vous pouvez utiliser n’importe quel caractère Unicode, il est préférable d’ignorer les caractères ASCII (donc pas de caractères accentués).\n",
    "\n",
    "Si une variable est nécessaire, pensez à un nom et commencez à l'utiliser comme une variable, comme dans l'exemple ci-dessous:\n",
    "\n",
    "Pour calculer l'aire d'un rectangle par exemple: `largeur` x `hauteur`:"
   ]
  },
  {
   "cell_type": "code",
   "execution_count": 14,
   "id": "3c07758a",
   "metadata": {
    "collapsed": false
   },
   "outputs": [],
   "source": [
    "largeur = 25\n",
    "hauteur = 40\n",
    "largeur    # essayer d'accéder à la valeur de la variable largeur"
   ]
  },
  {
   "cell_type": "markdown",
   "id": "479d1a00",
   "metadata": {},
   "source": [
    "on peut également utiliser la fonction `print()` pour afficher la valeur de la variable `largeur`"
   ]
  },
  {
   "cell_type": "code",
   "execution_count": 15,
   "id": "31664927",
   "metadata": {
    "collapsed": false
   },
   "outputs": [],
   "source": [
    "print(largeur)"
   ]
  },
  {
   "cell_type": "markdown",
   "id": "67cd16b7",
   "metadata": {},
   "source": [
    "Le produit de ces deux variables donne l'aire du rectangle:"
   ]
  },
  {
   "cell_type": "code",
   "execution_count": 16,
   "id": "5e46192e",
   "metadata": {
    "collapsed": false
   },
   "outputs": [],
   "source": [
    "largeur * hauteur  # donne l'aire du rectangle"
   ]
  },
  {
   "cell_type": "markdown",
   "id": "b34dc43e",
   "metadata": {},
   "source": [
    "**Notice.**\n",
    "\n",
    "Notez ici que le signe égal (`=`) dans l'affectation ne doit pas être considéré comme **\"est égal à\"**. Il doit être **\"lu\"** ou interprété comme **\"est définie par\"**, ce qui signifie dans notre exemple:\n",
    "> La variable `largeur` est définie par la valeur 25 et la variable `hauteur` est définie par la valeur 40.\n",
    "\n",
    "\n",
    "\n",
    "**Warning.**\n",
    "\n",
    "Si une variable n'est pas *définie* (assignée à une valeur), son utilisation vous donnera une erreur:"
   ]
  },
  {
   "cell_type": "code",
   "execution_count": 17,
   "id": "dd0136b3",
   "metadata": {
    "collapsed": false
   },
   "outputs": [],
   "source": [
    "aire     # essayer d'accéder à une variable non définie"
   ]
  },
  {
   "cell_type": "markdown",
   "id": "7f71af58",
   "metadata": {},
   "source": [
    "Laissez-nous résoudre ce problème informatique (ou **bug** tout simplement)!. En d'autres termes, assignons la variable `aire` à sa valeur."
   ]
  },
  {
   "cell_type": "code",
   "execution_count": 18,
   "id": "27d48050",
   "metadata": {
    "collapsed": false
   },
   "outputs": [],
   "source": [
    "aire = largeur * hauteur"
   ]
  },
  {
   "cell_type": "markdown",
   "id": "15032bde",
   "metadata": {},
   "source": [
    "## Noms de variables réservés (keywords)\n",
    "Certains noms de variables ne sont pas disponibles, ils sont réservés à python lui-même. Les mots-clés suivants (que vous pouvez afficher dans l'interpréteur avec la commande `help(\"keywords\")`) sont réservés et ne peuvent pas être utilisés pour définir vos propres identifiants (variables, noms de fonctions, classes, etc.)."
   ]
  },
  {
   "cell_type": "code",
   "execution_count": 19,
   "id": "ecdb1ba9",
   "metadata": {
    "collapsed": false
   },
   "outputs": [],
   "source": [
    "help(\"keywords\")"
   ]
  },
  {
   "cell_type": "code",
   "execution_count": 20,
   "id": "89b0ced1",
   "metadata": {
    "collapsed": false
   },
   "outputs": [],
   "source": [
    "lambda_ = 630e-9"
   ]
  }
 ],
 "metadata": {},
 "nbformat": 4,
 "nbformat_minor": 5
}
